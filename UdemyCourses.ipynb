{
  "nbformat": 4,
  "nbformat_minor": 0,
  "metadata": {
    "colab": {
      "provenance": []
    },
    "kernelspec": {
      "name": "python3",
      "display_name": "Python 3"
    },
    "language_info": {
      "name": "python"
    }
  },
  "cells": [
    {
      "cell_type": "code",
      "execution_count": null,
      "metadata": {
        "id": "zPdDHm0Asfw9"
      },
      "outputs": [],
      "source": [
        "import pandas as pd\n",
        "import matplotlib.pyplot as plt\n",
        "import seaborn as sns"
      ]
    },
    {
      "cell_type": "code",
      "source": [
        "df=pd.read_csv(\"udemy_courses.csv\", parse_dates=['published_timestamp'])\n",
        "#parse_dates: will convert the column that contain date or time to date and time data type"
      ],
      "metadata": {
        "id": "pYz-qf9puXV0"
      },
      "execution_count": null,
      "outputs": []
    },
    {
      "cell_type": "code",
      "source": [
        "df.dtypes"
      ],
      "metadata": {
        "colab": {
          "base_uri": "https://localhost:8080/"
        },
        "id": "rK8xZgDauh02",
        "outputId": "ba5769d2-c322-46a5-f265-83c12b57d015"
      },
      "execution_count": null,
      "outputs": [
        {
          "output_type": "execute_result",
          "data": {
            "text/plain": [
              "course_id                            int64\n",
              "course_title                        object\n",
              "url                                 object\n",
              "is_paid                               bool\n",
              "price                                int64\n",
              "num_subscribers                      int64\n",
              "num_reviews                          int64\n",
              "num_lectures                         int64\n",
              "level                               object\n",
              "content_duration                   float64\n",
              "published_timestamp    datetime64[ns, UTC]\n",
              "subject                             object\n",
              "dtype: object"
            ]
          },
          "metadata": {},
          "execution_count": 9
        }
      ]
    },
    {
      "cell_type": "markdown",
      "source": [
        "# Display Top 10 rows of the dataset"
      ],
      "metadata": {
        "id": "zWqAq26ewKQf"
      }
    },
    {
      "cell_type": "code",
      "source": [
        "df.head(10)"
      ],
      "metadata": {
        "colab": {
          "base_uri": "https://localhost:8080/",
          "height": 806
        },
        "id": "OWBS6CXvwQnD",
        "outputId": "eb2c3c50-e215-4c8b-abd7-95a25a5b0e59"
      },
      "execution_count": null,
      "outputs": [
        {
          "output_type": "execute_result",
          "data": {
            "text/plain": [
              "   course_id                                       course_title  \\\n",
              "0    1070968                 Ultimate Investment Banking Course   \n",
              "1    1113822  Complete GST Course & Certification - Grow You...   \n",
              "2    1006314  Financial Modeling for Business Analysts and C...   \n",
              "3    1210588  Beginner to Pro - Financial Analysis in Excel ...   \n",
              "4    1011058       How To Maximize Your Profits Trading Options   \n",
              "5     192870  Trading Penny Stocks: A Guide for All Levels I...   \n",
              "6     739964  Investing And Trading For Beginners: Mastering...   \n",
              "7     403100  Trading Stock Chart Patterns For Immediate, Ex...   \n",
              "8     476268  Options Trading 3 : Advanced Stock Profit and ...   \n",
              "9    1167710  The Only Investment Strategy You Need For Your...   \n",
              "\n",
              "                                                 url  is_paid  price  \\\n",
              "0  https://www.udemy.com/ultimate-investment-bank...     True    200   \n",
              "1      https://www.udemy.com/goods-and-services-tax/     True     75   \n",
              "2  https://www.udemy.com/financial-modeling-for-b...     True     45   \n",
              "3  https://www.udemy.com/complete-excel-finance-c...     True     95   \n",
              "4  https://www.udemy.com/how-to-maximize-your-pro...     True    200   \n",
              "5  https://www.udemy.com/trading-penny-stocks-a-g...     True    150   \n",
              "6  https://www.udemy.com/investing-and-trading-fo...     True     65   \n",
              "7  https://www.udemy.com/trading-chart-patterns-f...     True     95   \n",
              "8  https://www.udemy.com/day-trading-stock-option...     True    195   \n",
              "9  https://www.udemy.com/the-only-investment-stra...     True    200   \n",
              "\n",
              "   num_subscribers  num_reviews  num_lectures               level  \\\n",
              "0             2147           23            51          All Levels   \n",
              "1             2792          923           274          All Levels   \n",
              "2             2174           74            51  Intermediate Level   \n",
              "3             2451           11            36          All Levels   \n",
              "4             1276           45            26  Intermediate Level   \n",
              "5             9221          138            25          All Levels   \n",
              "6             1540          178            26      Beginner Level   \n",
              "7             2917          148            23          All Levels   \n",
              "8             5172           34            38        Expert Level   \n",
              "9              827           14            15          All Levels   \n",
              "\n",
              "   content_duration       published_timestamp           subject  \n",
              "0               1.5 2017-01-18 20:58:58+00:00  Business Finance  \n",
              "1              39.0 2017-03-09 16:34:20+00:00  Business Finance  \n",
              "2               2.5 2016-12-19 19:26:30+00:00  Business Finance  \n",
              "3               3.0 2017-05-30 20:07:24+00:00  Business Finance  \n",
              "4               2.0 2016-12-13 14:57:18+00:00  Business Finance  \n",
              "5               3.0 2014-05-02 15:13:30+00:00  Business Finance  \n",
              "6               1.0 2016-02-21 18:23:12+00:00  Business Finance  \n",
              "7               2.5 2015-01-30 22:13:03+00:00  Business Finance  \n",
              "8               2.5 2015-05-28 00:14:03+00:00  Business Finance  \n",
              "9               1.0 2017-04-18 18:13:32+00:00  Business Finance  "
            ],
            "text/html": [
              "\n",
              "  <div id=\"df-8d61ecbd-6025-461a-96da-7b9629050fd7\">\n",
              "    <div class=\"colab-df-container\">\n",
              "      <div>\n",
              "<style scoped>\n",
              "    .dataframe tbody tr th:only-of-type {\n",
              "        vertical-align: middle;\n",
              "    }\n",
              "\n",
              "    .dataframe tbody tr th {\n",
              "        vertical-align: top;\n",
              "    }\n",
              "\n",
              "    .dataframe thead th {\n",
              "        text-align: right;\n",
              "    }\n",
              "</style>\n",
              "<table border=\"1\" class=\"dataframe\">\n",
              "  <thead>\n",
              "    <tr style=\"text-align: right;\">\n",
              "      <th></th>\n",
              "      <th>course_id</th>\n",
              "      <th>course_title</th>\n",
              "      <th>url</th>\n",
              "      <th>is_paid</th>\n",
              "      <th>price</th>\n",
              "      <th>num_subscribers</th>\n",
              "      <th>num_reviews</th>\n",
              "      <th>num_lectures</th>\n",
              "      <th>level</th>\n",
              "      <th>content_duration</th>\n",
              "      <th>published_timestamp</th>\n",
              "      <th>subject</th>\n",
              "    </tr>\n",
              "  </thead>\n",
              "  <tbody>\n",
              "    <tr>\n",
              "      <th>0</th>\n",
              "      <td>1070968</td>\n",
              "      <td>Ultimate Investment Banking Course</td>\n",
              "      <td>https://www.udemy.com/ultimate-investment-bank...</td>\n",
              "      <td>True</td>\n",
              "      <td>200</td>\n",
              "      <td>2147</td>\n",
              "      <td>23</td>\n",
              "      <td>51</td>\n",
              "      <td>All Levels</td>\n",
              "      <td>1.5</td>\n",
              "      <td>2017-01-18 20:58:58+00:00</td>\n",
              "      <td>Business Finance</td>\n",
              "    </tr>\n",
              "    <tr>\n",
              "      <th>1</th>\n",
              "      <td>1113822</td>\n",
              "      <td>Complete GST Course &amp; Certification - Grow You...</td>\n",
              "      <td>https://www.udemy.com/goods-and-services-tax/</td>\n",
              "      <td>True</td>\n",
              "      <td>75</td>\n",
              "      <td>2792</td>\n",
              "      <td>923</td>\n",
              "      <td>274</td>\n",
              "      <td>All Levels</td>\n",
              "      <td>39.0</td>\n",
              "      <td>2017-03-09 16:34:20+00:00</td>\n",
              "      <td>Business Finance</td>\n",
              "    </tr>\n",
              "    <tr>\n",
              "      <th>2</th>\n",
              "      <td>1006314</td>\n",
              "      <td>Financial Modeling for Business Analysts and C...</td>\n",
              "      <td>https://www.udemy.com/financial-modeling-for-b...</td>\n",
              "      <td>True</td>\n",
              "      <td>45</td>\n",
              "      <td>2174</td>\n",
              "      <td>74</td>\n",
              "      <td>51</td>\n",
              "      <td>Intermediate Level</td>\n",
              "      <td>2.5</td>\n",
              "      <td>2016-12-19 19:26:30+00:00</td>\n",
              "      <td>Business Finance</td>\n",
              "    </tr>\n",
              "    <tr>\n",
              "      <th>3</th>\n",
              "      <td>1210588</td>\n",
              "      <td>Beginner to Pro - Financial Analysis in Excel ...</td>\n",
              "      <td>https://www.udemy.com/complete-excel-finance-c...</td>\n",
              "      <td>True</td>\n",
              "      <td>95</td>\n",
              "      <td>2451</td>\n",
              "      <td>11</td>\n",
              "      <td>36</td>\n",
              "      <td>All Levels</td>\n",
              "      <td>3.0</td>\n",
              "      <td>2017-05-30 20:07:24+00:00</td>\n",
              "      <td>Business Finance</td>\n",
              "    </tr>\n",
              "    <tr>\n",
              "      <th>4</th>\n",
              "      <td>1011058</td>\n",
              "      <td>How To Maximize Your Profits Trading Options</td>\n",
              "      <td>https://www.udemy.com/how-to-maximize-your-pro...</td>\n",
              "      <td>True</td>\n",
              "      <td>200</td>\n",
              "      <td>1276</td>\n",
              "      <td>45</td>\n",
              "      <td>26</td>\n",
              "      <td>Intermediate Level</td>\n",
              "      <td>2.0</td>\n",
              "      <td>2016-12-13 14:57:18+00:00</td>\n",
              "      <td>Business Finance</td>\n",
              "    </tr>\n",
              "    <tr>\n",
              "      <th>5</th>\n",
              "      <td>192870</td>\n",
              "      <td>Trading Penny Stocks: A Guide for All Levels I...</td>\n",
              "      <td>https://www.udemy.com/trading-penny-stocks-a-g...</td>\n",
              "      <td>True</td>\n",
              "      <td>150</td>\n",
              "      <td>9221</td>\n",
              "      <td>138</td>\n",
              "      <td>25</td>\n",
              "      <td>All Levels</td>\n",
              "      <td>3.0</td>\n",
              "      <td>2014-05-02 15:13:30+00:00</td>\n",
              "      <td>Business Finance</td>\n",
              "    </tr>\n",
              "    <tr>\n",
              "      <th>6</th>\n",
              "      <td>739964</td>\n",
              "      <td>Investing And Trading For Beginners: Mastering...</td>\n",
              "      <td>https://www.udemy.com/investing-and-trading-fo...</td>\n",
              "      <td>True</td>\n",
              "      <td>65</td>\n",
              "      <td>1540</td>\n",
              "      <td>178</td>\n",
              "      <td>26</td>\n",
              "      <td>Beginner Level</td>\n",
              "      <td>1.0</td>\n",
              "      <td>2016-02-21 18:23:12+00:00</td>\n",
              "      <td>Business Finance</td>\n",
              "    </tr>\n",
              "    <tr>\n",
              "      <th>7</th>\n",
              "      <td>403100</td>\n",
              "      <td>Trading Stock Chart Patterns For Immediate, Ex...</td>\n",
              "      <td>https://www.udemy.com/trading-chart-patterns-f...</td>\n",
              "      <td>True</td>\n",
              "      <td>95</td>\n",
              "      <td>2917</td>\n",
              "      <td>148</td>\n",
              "      <td>23</td>\n",
              "      <td>All Levels</td>\n",
              "      <td>2.5</td>\n",
              "      <td>2015-01-30 22:13:03+00:00</td>\n",
              "      <td>Business Finance</td>\n",
              "    </tr>\n",
              "    <tr>\n",
              "      <th>8</th>\n",
              "      <td>476268</td>\n",
              "      <td>Options Trading 3 : Advanced Stock Profit and ...</td>\n",
              "      <td>https://www.udemy.com/day-trading-stock-option...</td>\n",
              "      <td>True</td>\n",
              "      <td>195</td>\n",
              "      <td>5172</td>\n",
              "      <td>34</td>\n",
              "      <td>38</td>\n",
              "      <td>Expert Level</td>\n",
              "      <td>2.5</td>\n",
              "      <td>2015-05-28 00:14:03+00:00</td>\n",
              "      <td>Business Finance</td>\n",
              "    </tr>\n",
              "    <tr>\n",
              "      <th>9</th>\n",
              "      <td>1167710</td>\n",
              "      <td>The Only Investment Strategy You Need For Your...</td>\n",
              "      <td>https://www.udemy.com/the-only-investment-stra...</td>\n",
              "      <td>True</td>\n",
              "      <td>200</td>\n",
              "      <td>827</td>\n",
              "      <td>14</td>\n",
              "      <td>15</td>\n",
              "      <td>All Levels</td>\n",
              "      <td>1.0</td>\n",
              "      <td>2017-04-18 18:13:32+00:00</td>\n",
              "      <td>Business Finance</td>\n",
              "    </tr>\n",
              "  </tbody>\n",
              "</table>\n",
              "</div>\n",
              "      <button class=\"colab-df-convert\" onclick=\"convertToInteractive('df-8d61ecbd-6025-461a-96da-7b9629050fd7')\"\n",
              "              title=\"Convert this dataframe to an interactive table.\"\n",
              "              style=\"display:none;\">\n",
              "        \n",
              "  <svg xmlns=\"http://www.w3.org/2000/svg\" height=\"24px\"viewBox=\"0 0 24 24\"\n",
              "       width=\"24px\">\n",
              "    <path d=\"M0 0h24v24H0V0z\" fill=\"none\"/>\n",
              "    <path d=\"M18.56 5.44l.94 2.06.94-2.06 2.06-.94-2.06-.94-.94-2.06-.94 2.06-2.06.94zm-11 1L8.5 8.5l.94-2.06 2.06-.94-2.06-.94L8.5 2.5l-.94 2.06-2.06.94zm10 10l.94 2.06.94-2.06 2.06-.94-2.06-.94-.94-2.06-.94 2.06-2.06.94z\"/><path d=\"M17.41 7.96l-1.37-1.37c-.4-.4-.92-.59-1.43-.59-.52 0-1.04.2-1.43.59L10.3 9.45l-7.72 7.72c-.78.78-.78 2.05 0 2.83L4 21.41c.39.39.9.59 1.41.59.51 0 1.02-.2 1.41-.59l7.78-7.78 2.81-2.81c.8-.78.8-2.07 0-2.86zM5.41 20L4 18.59l7.72-7.72 1.47 1.35L5.41 20z\"/>\n",
              "  </svg>\n",
              "      </button>\n",
              "      \n",
              "  <style>\n",
              "    .colab-df-container {\n",
              "      display:flex;\n",
              "      flex-wrap:wrap;\n",
              "      gap: 12px;\n",
              "    }\n",
              "\n",
              "    .colab-df-convert {\n",
              "      background-color: #E8F0FE;\n",
              "      border: none;\n",
              "      border-radius: 50%;\n",
              "      cursor: pointer;\n",
              "      display: none;\n",
              "      fill: #1967D2;\n",
              "      height: 32px;\n",
              "      padding: 0 0 0 0;\n",
              "      width: 32px;\n",
              "    }\n",
              "\n",
              "    .colab-df-convert:hover {\n",
              "      background-color: #E2EBFA;\n",
              "      box-shadow: 0px 1px 2px rgba(60, 64, 67, 0.3), 0px 1px 3px 1px rgba(60, 64, 67, 0.15);\n",
              "      fill: #174EA6;\n",
              "    }\n",
              "\n",
              "    [theme=dark] .colab-df-convert {\n",
              "      background-color: #3B4455;\n",
              "      fill: #D2E3FC;\n",
              "    }\n",
              "\n",
              "    [theme=dark] .colab-df-convert:hover {\n",
              "      background-color: #434B5C;\n",
              "      box-shadow: 0px 1px 3px 1px rgba(0, 0, 0, 0.15);\n",
              "      filter: drop-shadow(0px 1px 2px rgba(0, 0, 0, 0.3));\n",
              "      fill: #FFFFFF;\n",
              "    }\n",
              "  </style>\n",
              "\n",
              "      <script>\n",
              "        const buttonEl =\n",
              "          document.querySelector('#df-8d61ecbd-6025-461a-96da-7b9629050fd7 button.colab-df-convert');\n",
              "        buttonEl.style.display =\n",
              "          google.colab.kernel.accessAllowed ? 'block' : 'none';\n",
              "\n",
              "        async function convertToInteractive(key) {\n",
              "          const element = document.querySelector('#df-8d61ecbd-6025-461a-96da-7b9629050fd7');\n",
              "          const dataTable =\n",
              "            await google.colab.kernel.invokeFunction('convertToInteractive',\n",
              "                                                     [key], {});\n",
              "          if (!dataTable) return;\n",
              "\n",
              "          const docLinkHtml = 'Like what you see? Visit the ' +\n",
              "            '<a target=\"_blank\" href=https://colab.research.google.com/notebooks/data_table.ipynb>data table notebook</a>'\n",
              "            + ' to learn more about interactive tables.';\n",
              "          element.innerHTML = '';\n",
              "          dataTable['output_type'] = 'display_data';\n",
              "          await google.colab.output.renderOutput(dataTable, element);\n",
              "          const docLink = document.createElement('div');\n",
              "          docLink.innerHTML = docLinkHtml;\n",
              "          element.appendChild(docLink);\n",
              "        }\n",
              "      </script>\n",
              "    </div>\n",
              "  </div>\n",
              "  "
            ]
          },
          "metadata": {},
          "execution_count": 10
        }
      ]
    },
    {
      "cell_type": "markdown",
      "source": [
        "# Check last 5 rows of the dataset"
      ],
      "metadata": {
        "id": "kUfcdWpawYdP"
      }
    },
    {
      "cell_type": "code",
      "source": [
        "df.tail()"
      ],
      "metadata": {
        "colab": {
          "base_uri": "https://localhost:8080/",
          "height": 423
        },
        "id": "Io3woRccwch-",
        "outputId": "64a7c7eb-d439-4925-a253-c8b9e350a1c3"
      },
      "execution_count": null,
      "outputs": [
        {
          "output_type": "execute_result",
          "data": {
            "text/plain": [
              "      course_id                                       course_title  \\\n",
              "3673     775618  Learn jQuery from Scratch - Master of JavaScri...   \n",
              "3674    1088178  How To Design A WordPress Website With No Codi...   \n",
              "3675     635248                      Learn and Build using Polymer   \n",
              "3676     905096  CSS Animations: Create Amazing Effects on Your...   \n",
              "3677     297602  Using MODX CMS to Build Websites: A Beginner's...   \n",
              "\n",
              "                                                    url  is_paid  price  \\\n",
              "3673  https://www.udemy.com/easy-jquery-for-beginner...     True    100   \n",
              "3674  https://www.udemy.com/how-to-make-a-wordpress-...     True     25   \n",
              "3675  https://www.udemy.com/learn-and-build-using-po...     True     40   \n",
              "3676  https://www.udemy.com/css-animations-create-am...     True     50   \n",
              "3677  https://www.udemy.com/using-modx-cms-to-build-...     True     45   \n",
              "\n",
              "      num_subscribers  num_reviews  num_lectures           level  \\\n",
              "3673             1040           14            21      All Levels   \n",
              "3674              306            3            42  Beginner Level   \n",
              "3675              513          169            48      All Levels   \n",
              "3676              300           31            38      All Levels   \n",
              "3677              901           36            20  Beginner Level   \n",
              "\n",
              "      content_duration       published_timestamp          subject  \n",
              "3673               2.0 2016-06-14 17:36:46+00:00  Web Development  \n",
              "3674               3.5 2017-03-10 22:24:30+00:00  Web Development  \n",
              "3675               3.5 2015-12-30 16:41:42+00:00  Web Development  \n",
              "3676               3.0 2016-08-11 19:06:15+00:00  Web Development  \n",
              "3677               2.0 2014-09-28 19:51:11+00:00  Web Development  "
            ],
            "text/html": [
              "\n",
              "  <div id=\"df-ce9a9f8c-7384-4c63-b851-f016f53bd654\">\n",
              "    <div class=\"colab-df-container\">\n",
              "      <div>\n",
              "<style scoped>\n",
              "    .dataframe tbody tr th:only-of-type {\n",
              "        vertical-align: middle;\n",
              "    }\n",
              "\n",
              "    .dataframe tbody tr th {\n",
              "        vertical-align: top;\n",
              "    }\n",
              "\n",
              "    .dataframe thead th {\n",
              "        text-align: right;\n",
              "    }\n",
              "</style>\n",
              "<table border=\"1\" class=\"dataframe\">\n",
              "  <thead>\n",
              "    <tr style=\"text-align: right;\">\n",
              "      <th></th>\n",
              "      <th>course_id</th>\n",
              "      <th>course_title</th>\n",
              "      <th>url</th>\n",
              "      <th>is_paid</th>\n",
              "      <th>price</th>\n",
              "      <th>num_subscribers</th>\n",
              "      <th>num_reviews</th>\n",
              "      <th>num_lectures</th>\n",
              "      <th>level</th>\n",
              "      <th>content_duration</th>\n",
              "      <th>published_timestamp</th>\n",
              "      <th>subject</th>\n",
              "    </tr>\n",
              "  </thead>\n",
              "  <tbody>\n",
              "    <tr>\n",
              "      <th>3673</th>\n",
              "      <td>775618</td>\n",
              "      <td>Learn jQuery from Scratch - Master of JavaScri...</td>\n",
              "      <td>https://www.udemy.com/easy-jquery-for-beginner...</td>\n",
              "      <td>True</td>\n",
              "      <td>100</td>\n",
              "      <td>1040</td>\n",
              "      <td>14</td>\n",
              "      <td>21</td>\n",
              "      <td>All Levels</td>\n",
              "      <td>2.0</td>\n",
              "      <td>2016-06-14 17:36:46+00:00</td>\n",
              "      <td>Web Development</td>\n",
              "    </tr>\n",
              "    <tr>\n",
              "      <th>3674</th>\n",
              "      <td>1088178</td>\n",
              "      <td>How To Design A WordPress Website With No Codi...</td>\n",
              "      <td>https://www.udemy.com/how-to-make-a-wordpress-...</td>\n",
              "      <td>True</td>\n",
              "      <td>25</td>\n",
              "      <td>306</td>\n",
              "      <td>3</td>\n",
              "      <td>42</td>\n",
              "      <td>Beginner Level</td>\n",
              "      <td>3.5</td>\n",
              "      <td>2017-03-10 22:24:30+00:00</td>\n",
              "      <td>Web Development</td>\n",
              "    </tr>\n",
              "    <tr>\n",
              "      <th>3675</th>\n",
              "      <td>635248</td>\n",
              "      <td>Learn and Build using Polymer</td>\n",
              "      <td>https://www.udemy.com/learn-and-build-using-po...</td>\n",
              "      <td>True</td>\n",
              "      <td>40</td>\n",
              "      <td>513</td>\n",
              "      <td>169</td>\n",
              "      <td>48</td>\n",
              "      <td>All Levels</td>\n",
              "      <td>3.5</td>\n",
              "      <td>2015-12-30 16:41:42+00:00</td>\n",
              "      <td>Web Development</td>\n",
              "    </tr>\n",
              "    <tr>\n",
              "      <th>3676</th>\n",
              "      <td>905096</td>\n",
              "      <td>CSS Animations: Create Amazing Effects on Your...</td>\n",
              "      <td>https://www.udemy.com/css-animations-create-am...</td>\n",
              "      <td>True</td>\n",
              "      <td>50</td>\n",
              "      <td>300</td>\n",
              "      <td>31</td>\n",
              "      <td>38</td>\n",
              "      <td>All Levels</td>\n",
              "      <td>3.0</td>\n",
              "      <td>2016-08-11 19:06:15+00:00</td>\n",
              "      <td>Web Development</td>\n",
              "    </tr>\n",
              "    <tr>\n",
              "      <th>3677</th>\n",
              "      <td>297602</td>\n",
              "      <td>Using MODX CMS to Build Websites: A Beginner's...</td>\n",
              "      <td>https://www.udemy.com/using-modx-cms-to-build-...</td>\n",
              "      <td>True</td>\n",
              "      <td>45</td>\n",
              "      <td>901</td>\n",
              "      <td>36</td>\n",
              "      <td>20</td>\n",
              "      <td>Beginner Level</td>\n",
              "      <td>2.0</td>\n",
              "      <td>2014-09-28 19:51:11+00:00</td>\n",
              "      <td>Web Development</td>\n",
              "    </tr>\n",
              "  </tbody>\n",
              "</table>\n",
              "</div>\n",
              "      <button class=\"colab-df-convert\" onclick=\"convertToInteractive('df-ce9a9f8c-7384-4c63-b851-f016f53bd654')\"\n",
              "              title=\"Convert this dataframe to an interactive table.\"\n",
              "              style=\"display:none;\">\n",
              "        \n",
              "  <svg xmlns=\"http://www.w3.org/2000/svg\" height=\"24px\"viewBox=\"0 0 24 24\"\n",
              "       width=\"24px\">\n",
              "    <path d=\"M0 0h24v24H0V0z\" fill=\"none\"/>\n",
              "    <path d=\"M18.56 5.44l.94 2.06.94-2.06 2.06-.94-2.06-.94-.94-2.06-.94 2.06-2.06.94zm-11 1L8.5 8.5l.94-2.06 2.06-.94-2.06-.94L8.5 2.5l-.94 2.06-2.06.94zm10 10l.94 2.06.94-2.06 2.06-.94-2.06-.94-.94-2.06-.94 2.06-2.06.94z\"/><path d=\"M17.41 7.96l-1.37-1.37c-.4-.4-.92-.59-1.43-.59-.52 0-1.04.2-1.43.59L10.3 9.45l-7.72 7.72c-.78.78-.78 2.05 0 2.83L4 21.41c.39.39.9.59 1.41.59.51 0 1.02-.2 1.41-.59l7.78-7.78 2.81-2.81c.8-.78.8-2.07 0-2.86zM5.41 20L4 18.59l7.72-7.72 1.47 1.35L5.41 20z\"/>\n",
              "  </svg>\n",
              "      </button>\n",
              "      \n",
              "  <style>\n",
              "    .colab-df-container {\n",
              "      display:flex;\n",
              "      flex-wrap:wrap;\n",
              "      gap: 12px;\n",
              "    }\n",
              "\n",
              "    .colab-df-convert {\n",
              "      background-color: #E8F0FE;\n",
              "      border: none;\n",
              "      border-radius: 50%;\n",
              "      cursor: pointer;\n",
              "      display: none;\n",
              "      fill: #1967D2;\n",
              "      height: 32px;\n",
              "      padding: 0 0 0 0;\n",
              "      width: 32px;\n",
              "    }\n",
              "\n",
              "    .colab-df-convert:hover {\n",
              "      background-color: #E2EBFA;\n",
              "      box-shadow: 0px 1px 2px rgba(60, 64, 67, 0.3), 0px 1px 3px 1px rgba(60, 64, 67, 0.15);\n",
              "      fill: #174EA6;\n",
              "    }\n",
              "\n",
              "    [theme=dark] .colab-df-convert {\n",
              "      background-color: #3B4455;\n",
              "      fill: #D2E3FC;\n",
              "    }\n",
              "\n",
              "    [theme=dark] .colab-df-convert:hover {\n",
              "      background-color: #434B5C;\n",
              "      box-shadow: 0px 1px 3px 1px rgba(0, 0, 0, 0.15);\n",
              "      filter: drop-shadow(0px 1px 2px rgba(0, 0, 0, 0.3));\n",
              "      fill: #FFFFFF;\n",
              "    }\n",
              "  </style>\n",
              "\n",
              "      <script>\n",
              "        const buttonEl =\n",
              "          document.querySelector('#df-ce9a9f8c-7384-4c63-b851-f016f53bd654 button.colab-df-convert');\n",
              "        buttonEl.style.display =\n",
              "          google.colab.kernel.accessAllowed ? 'block' : 'none';\n",
              "\n",
              "        async function convertToInteractive(key) {\n",
              "          const element = document.querySelector('#df-ce9a9f8c-7384-4c63-b851-f016f53bd654');\n",
              "          const dataTable =\n",
              "            await google.colab.kernel.invokeFunction('convertToInteractive',\n",
              "                                                     [key], {});\n",
              "          if (!dataTable) return;\n",
              "\n",
              "          const docLinkHtml = 'Like what you see? Visit the ' +\n",
              "            '<a target=\"_blank\" href=https://colab.research.google.com/notebooks/data_table.ipynb>data table notebook</a>'\n",
              "            + ' to learn more about interactive tables.';\n",
              "          element.innerHTML = '';\n",
              "          dataTable['output_type'] = 'display_data';\n",
              "          await google.colab.output.renderOutput(dataTable, element);\n",
              "          const docLink = document.createElement('div');\n",
              "          docLink.innerHTML = docLinkHtml;\n",
              "          element.appendChild(docLink);\n",
              "        }\n",
              "      </script>\n",
              "    </div>\n",
              "  </div>\n",
              "  "
            ]
          },
          "metadata": {},
          "execution_count": 11
        }
      ]
    },
    {
      "cell_type": "markdown",
      "source": [
        "# Find Shape of the dataset: number of cols & rows"
      ],
      "metadata": {
        "id": "iPoqv-i2wjhT"
      }
    },
    {
      "cell_type": "code",
      "source": [
        "print(df.shape)\n",
        "print(\"Number of rows: \", df.shape[0])\n",
        "print(\"Number of cols: \",df.shape[1])\n"
      ],
      "metadata": {
        "colab": {
          "base_uri": "https://localhost:8080/"
        },
        "id": "xPY2TkWgwprv",
        "outputId": "e0f1fd68-e6c1-4b30-b4fb-036340f3afd6"
      },
      "execution_count": null,
      "outputs": [
        {
          "output_type": "stream",
          "name": "stdout",
          "text": [
            "(3678, 12)\n",
            "Number of rows:  3678\n",
            "Number of cols:  12\n"
          ]
        }
      ]
    },
    {
      "cell_type": "markdown",
      "source": [
        "# Get info about dataset and memory req"
      ],
      "metadata": {
        "id": "uOGyGG2CxGe4"
      }
    },
    {
      "cell_type": "code",
      "source": [
        "df.info()"
      ],
      "metadata": {
        "colab": {
          "base_uri": "https://localhost:8080/"
        },
        "id": "4q5DvRgwxM-o",
        "outputId": "d248ea60-fbad-4c87-af53-fbfc7536a805"
      },
      "execution_count": null,
      "outputs": [
        {
          "output_type": "stream",
          "name": "stdout",
          "text": [
            "<class 'pandas.core.frame.DataFrame'>\n",
            "RangeIndex: 3678 entries, 0 to 3677\n",
            "Data columns (total 12 columns):\n",
            " #   Column               Non-Null Count  Dtype              \n",
            "---  ------               --------------  -----              \n",
            " 0   course_id            3678 non-null   int64              \n",
            " 1   course_title         3678 non-null   object             \n",
            " 2   url                  3678 non-null   object             \n",
            " 3   is_paid              3678 non-null   bool               \n",
            " 4   price                3678 non-null   int64              \n",
            " 5   num_subscribers      3678 non-null   int64              \n",
            " 6   num_reviews          3678 non-null   int64              \n",
            " 7   num_lectures         3678 non-null   int64              \n",
            " 8   level                3678 non-null   object             \n",
            " 9   content_duration     3678 non-null   float64            \n",
            " 10  published_timestamp  3678 non-null   datetime64[ns, UTC]\n",
            " 11  subject              3678 non-null   object             \n",
            "dtypes: bool(1), datetime64[ns, UTC](1), float64(1), int64(5), object(4)\n",
            "memory usage: 319.8+ KB\n"
          ]
        }
      ]
    },
    {
      "cell_type": "markdown",
      "source": [
        "# Check null values"
      ],
      "metadata": {
        "id": "itZmG51QxR0J"
      }
    },
    {
      "cell_type": "code",
      "source": [
        "print(\"Any missing values?\",df.isnull().values.any())\n",
        "#.any() returns the ture values"
      ],
      "metadata": {
        "colab": {
          "base_uri": "https://localhost:8080/"
        },
        "id": "EDQqn8jBxUFb",
        "outputId": "354a8fee-0bcf-42e8-b33c-b61b1328cdc9"
      },
      "execution_count": null,
      "outputs": [
        {
          "output_type": "stream",
          "name": "stdout",
          "text": [
            "Any missing values? False\n"
          ]
        }
      ]
    },
    {
      "cell_type": "code",
      "source": [
        "df.isnull().sum()"
      ],
      "metadata": {
        "colab": {
          "base_uri": "https://localhost:8080/"
        },
        "id": "-SaKlqXKy3rs",
        "outputId": "4cada974-33f4-4813-8cfb-1f3c4bd432db"
      },
      "execution_count": null,
      "outputs": [
        {
          "output_type": "execute_result",
          "data": {
            "text/plain": [
              "course_id              0\n",
              "course_title           0\n",
              "url                    0\n",
              "is_paid                0\n",
              "price                  0\n",
              "num_subscribers        0\n",
              "num_reviews            0\n",
              "num_lectures           0\n",
              "level                  0\n",
              "content_duration       0\n",
              "published_timestamp    0\n",
              "subject                0\n",
              "dtype: int64"
            ]
          },
          "metadata": {},
          "execution_count": 62
        }
      ]
    },
    {
      "cell_type": "code",
      "source": [
        "sns.heatmap(df.isnull())"
      ],
      "metadata": {
        "colab": {
          "base_uri": "https://localhost:8080/",
          "height": 589
        },
        "id": "CATE_aYQy-05",
        "outputId": "141a49de-bff0-4971-e79a-52d7968c9a44"
      },
      "execution_count": null,
      "outputs": [
        {
          "output_type": "execute_result",
          "data": {
            "text/plain": [
              "<Axes: >"
            ]
          },
          "metadata": {},
          "execution_count": 63
        },
        {
          "output_type": "display_data",
          "data": {
            "text/plain": [
              "<Figure size 640x480 with 2 Axes>"
            ],
            "image/png": "[encoded data removed]"
          },
          "metadata": {}
        }
      ]
    },
    {
      "cell_type": "markdown",
      "source": [
        "# Check for duplicates and drop them"
      ],
      "metadata": {
        "id": "AVgg0ZylyL7N"
      }
    },
    {
      "cell_type": "code",
      "source": [
        "print(\"Any duplicated values?\",df.duplicated().values.any())"
      ],
      "metadata": {
        "colab": {
          "base_uri": "https://localhost:8080/"
        },
        "id": "PN82znTSyOHx",
        "outputId": "8aff01b1-daa4-45d9-e12f-cffe22d15fcc"
      },
      "execution_count": null,
      "outputs": [
        {
          "output_type": "stream",
          "name": "stdout",
          "text": [
            "Any duplicated values? True\n"
          ]
        }
      ]
    },
    {
      "cell_type": "code",
      "source": [
        "df=df.drop_duplicates()"
      ],
      "metadata": {
        "id": "WVBTkzx9ykdM"
      },
      "execution_count": null,
      "outputs": []
    },
    {
      "cell_type": "code",
      "source": [
        "print(\"Any duplicated values?\",df.duplicated().values.any())"
      ],
      "metadata": {
        "colab": {
          "base_uri": "https://localhost:8080/"
        },
        "id": "WhYTgC9Myqeh",
        "outputId": "d044c9c7-f4d5-4ab4-d6ab-11bb7cd05ab3"
      },
      "execution_count": null,
      "outputs": [
        {
          "output_type": "stream",
          "name": "stdout",
          "text": [
            "Any duplicated values? False\n"
          ]
        }
      ]
    },
    {
      "cell_type": "markdown",
      "source": [
        "## Find out number of courses per subject"
      ],
      "metadata": {
        "id": "MakHZXo203u8"
      }
    },
    {
      "cell_type": "code",
      "source": [
        "df.head(n=2)"
      ],
      "metadata": {
        "colab": {
          "base_uri": "https://localhost:8080/",
          "height": 208
        },
        "id": "x-7uvuIa09Tg",
        "outputId": "bd4ca932-a64a-4187-a4fa-d2da617bce63"
      },
      "execution_count": null,
      "outputs": [
        {
          "output_type": "execute_result",
          "data": {
            "text/plain": [
              "   course_id                                       course_title  \\\n",
              "0    1070968                 Ultimate Investment Banking Course   \n",
              "1    1113822  Complete GST Course & Certification - Grow You...   \n",
              "\n",
              "                                                 url  is_paid  price  \\\n",
              "0  https://www.udemy.com/ultimate-investment-bank...     True    200   \n",
              "1      https://www.udemy.com/goods-and-services-tax/     True     75   \n",
              "\n",
              "   num_subscribers  num_reviews  num_lectures       level  content_duration  \\\n",
              "0             2147           23            51  All Levels               1.5   \n",
              "1             2792          923           274  All Levels              39.0   \n",
              "\n",
              "        published_timestamp           subject  \n",
              "0 2017-01-18 20:58:58+00:00  Business Finance  \n",
              "1 2017-03-09 16:34:20+00:00  Business Finance  "
            ],
            "text/html": [
              "\n",
              "  <div id=\"df-eb3e37c1-6804-41f3-a65e-51c90b287674\">\n",
              "    <div class=\"colab-df-container\">\n",
              "      <div>\n",
              "<style scoped>\n",
              "    .dataframe tbody tr th:only-of-type {\n",
              "        vertical-align: middle;\n",
              "    }\n",
              "\n",
              "    .dataframe tbody tr th {\n",
              "        vertical-align: top;\n",
              "    }\n",
              "\n",
              "    .dataframe thead th {\n",
              "        text-align: right;\n",
              "    }\n",
              "</style>\n",
              "<table border=\"1\" class=\"dataframe\">\n",
              "  <thead>\n",
              "    <tr style=\"text-align: right;\">\n",
              "      <th></th>\n",
              "      <th>course_id</th>\n",
              "      <th>course_title</th>\n",
              "      <th>url</th>\n",
              "      <th>is_paid</th>\n",
              "      <th>price</th>\n",
              "      <th>num_subscribers</th>\n",
              "      <th>num_reviews</th>\n",
              "      <th>num_lectures</th>\n",
              "      <th>level</th>\n",
              "      <th>content_duration</th>\n",
              "      <th>published_timestamp</th>\n",
              "      <th>subject</th>\n",
              "    </tr>\n",
              "  </thead>\n",
              "  <tbody>\n",
              "    <tr>\n",
              "      <th>0</th>\n",
              "      <td>1070968</td>\n",
              "      <td>Ultimate Investment Banking Course</td>\n",
              "      <td>https://www.udemy.com/ultimate-investment-bank...</td>\n",
              "      <td>True</td>\n",
              "      <td>200</td>\n",
              "      <td>2147</td>\n",
              "      <td>23</td>\n",
              "      <td>51</td>\n",
              "      <td>All Levels</td>\n",
              "      <td>1.5</td>\n",
              "      <td>2017-01-18 20:58:58+00:00</td>\n",
              "      <td>Business Finance</td>\n",
              "    </tr>\n",
              "    <tr>\n",
              "      <th>1</th>\n",
              "      <td>1113822</td>\n",
              "      <td>Complete GST Course &amp; Certification - Grow You...</td>\n",
              "      <td>https://www.udemy.com/goods-and-services-tax/</td>\n",
              "      <td>True</td>\n",
              "      <td>75</td>\n",
              "      <td>2792</td>\n",
              "      <td>923</td>\n",
              "      <td>274</td>\n",
              "      <td>All Levels</td>\n",
              "      <td>39.0</td>\n",
              "      <td>2017-03-09 16:34:20+00:00</td>\n",
              "      <td>Business Finance</td>\n",
              "    </tr>\n",
              "  </tbody>\n",
              "</table>\n",
              "</div>\n",
              "      <button class=\"colab-df-convert\" onclick=\"convertToInteractive('df-eb3e37c1-6804-41f3-a65e-51c90b287674')\"\n",
              "              title=\"Convert this dataframe to an interactive table.\"\n",
              "              style=\"display:none;\">\n",
              "        \n",
              "  <svg xmlns=\"http://www.w3.org/2000/svg\" height=\"24px\"viewBox=\"0 0 24 24\"\n",
              "       width=\"24px\">\n",
              "    <path d=\"M0 0h24v24H0V0z\" fill=\"none\"/>\n",
              "    <path d=\"M18.56 5.44l.94 2.06.94-2.06 2.06-.94-2.06-.94-.94-2.06-.94 2.06-2.06.94zm-11 1L8.5 8.5l.94-2.06 2.06-.94-2.06-.94L8.5 2.5l-.94 2.06-2.06.94zm10 10l.94 2.06.94-2.06 2.06-.94-2.06-.94-.94-2.06-.94 2.06-2.06.94z\"/><path d=\"M17.41 7.96l-1.37-1.37c-.4-.4-.92-.59-1.43-.59-.52 0-1.04.2-1.43.59L10.3 9.45l-7.72 7.72c-.78.78-.78 2.05 0 2.83L4 21.41c.39.39.9.59 1.41.59.51 0 1.02-.2 1.41-.59l7.78-7.78 2.81-2.81c.8-.78.8-2.07 0-2.86zM5.41 20L4 18.59l7.72-7.72 1.47 1.35L5.41 20z\"/>\n",
              "  </svg>\n",
              "      </button>\n",
              "      \n",
              "  <style>\n",
              "    .colab-df-container {\n",
              "      display:flex;\n",
              "      flex-wrap:wrap;\n",
              "      gap: 12px;\n",
              "    }\n",
              "\n",
              "    .colab-df-convert {\n",
              "      background-color: #E8F0FE;\n",
              "      border: none;\n",
              "      border-radius: 50%;\n",
              "      cursor: pointer;\n",
              "      display: none;\n",
              "      fill: #1967D2;\n",
              "      height: 32px;\n",
              "      padding: 0 0 0 0;\n",
              "      width: 32px;\n",
              "    }\n",
              "\n",
              "    .colab-df-convert:hover {\n",
              "      background-color: #E2EBFA;\n",
              "      box-shadow: 0px 1px 2px rgba(60, 64, 67, 0.3), 0px 1px 3px 1px rgba(60, 64, 67, 0.15);\n",
              "      fill: #174EA6;\n",
              "    }\n",
              "\n",
              "    [theme=dark] .colab-df-convert {\n",
              "      background-color: #3B4455;\n",
              "      fill: #D2E3FC;\n",
              "    }\n",
              "\n",
              "    [theme=dark] .colab-df-convert:hover {\n",
              "      background-color: #434B5C;\n",
              "      box-shadow: 0px 1px 3px 1px rgba(0, 0, 0, 0.15);\n",
              "      filter: drop-shadow(0px 1px 2px rgba(0, 0, 0, 0.3));\n",
              "      fill: #FFFFFF;\n",
              "    }\n",
              "  </style>\n",
              "\n",
              "      <script>\n",
              "        const buttonEl =\n",
              "          document.querySelector('#df-eb3e37c1-6804-41f3-a65e-51c90b287674 button.colab-df-convert');\n",
              "        buttonEl.style.display =\n",
              "          google.colab.kernel.accessAllowed ? 'block' : 'none';\n",
              "\n",
              "        async function convertToInteractive(key) {\n",
              "          const element = document.querySelector('#df-eb3e37c1-6804-41f3-a65e-51c90b287674');\n",
              "          const dataTable =\n",
              "            await google.colab.kernel.invokeFunction('convertToInteractive',\n",
              "                                                     [key], {});\n",
              "          if (!dataTable) return;\n",
              "\n",
              "          const docLinkHtml = 'Like what you see? Visit the ' +\n",
              "            '<a target=\"_blank\" href=https://colab.research.google.com/notebooks/data_table.ipynb>data table notebook</a>'\n",
              "            + ' to learn more about interactive tables.';\n",
              "          element.innerHTML = '';\n",
              "          dataTable['output_type'] = 'display_data';\n",
              "          await google.colab.output.renderOutput(dataTable, element);\n",
              "          const docLink = document.createElement('div');\n",
              "          docLink.innerHTML = docLinkHtml;\n",
              "          element.appendChild(docLink);\n",
              "        }\n",
              "      </script>\n",
              "    </div>\n",
              "  </div>\n",
              "  "
            ]
          },
          "metadata": {},
          "execution_count": 36
        }
      ]
    },
    {
      "cell_type": "code",
      "source": [
        "df['subject'].value_counts()\n",
        "#value_counts: unique values"
      ],
      "metadata": {
        "colab": {
          "base_uri": "https://localhost:8080/"
        },
        "id": "OZ6G2bma1O62",
        "outputId": "f790667e-cc99-4a2f-9f23-fe2af4b6ebe4"
      },
      "execution_count": null,
      "outputs": [
        {
          "output_type": "execute_result",
          "data": {
            "text/plain": [
              "Web Development        1199\n",
              "Business Finance       1191\n",
              "Musical Instruments     680\n",
              "Graphic Design          602\n",
              "Name: subject, dtype: int64"
            ]
          },
          "metadata": {},
          "execution_count": 67
        }
      ]
    },
    {
      "cell_type": "code",
      "source": [
        "sns.countplot(x='subject', data=df)"
      ],
      "metadata": {
        "colab": {
          "base_uri": "https://localhost:8080/",
          "height": 466
        },
        "id": "FHwnK6dn7OT5",
        "outputId": "3c8d9c9c-8187-4c33-cc03-75866e7f4726"
      },
      "execution_count": null,
      "outputs": [
        {
          "output_type": "execute_result",
          "data": {
            "text/plain": [
              "<Axes: xlabel='subject', ylabel='count'>"
            ]
          },
          "metadata": {},
          "execution_count": 100
        },
        {
          "output_type": "display_data",
          "data": {
            "text/plain": [
              "<Figure size 640x480 with 1 Axes>"
            ],
            "image/png": "[encoded data removed]"
          },
          "metadata": {}
        }
      ]
    },
    {
      "cell_type": "markdown",
      "source": [
        "# For which levels, udemy courses providing the course"
      ],
      "metadata": {
        "id": "A-ZSpA9S8st8"
      }
    },
    {
      "cell_type": "code",
      "source": [
        "df.head()"
      ],
      "metadata": {
        "colab": {
          "base_uri": "https://localhost:8080/",
          "height": 441
        },
        "id": "FsbMfrI98zv3",
        "outputId": "629920cf-bb94-4671-c6f4-8f230f6be30e"
      },
      "execution_count": null,
      "outputs": [
        {
          "output_type": "execute_result",
          "data": {
            "text/plain": [
              "   course_id                                       course_title  \\\n",
              "0    1070968                 Ultimate Investment Banking Course   \n",
              "1    1113822  Complete GST Course & Certification - Grow You...   \n",
              "2    1006314  Financial Modeling for Business Analysts and C...   \n",
              "3    1210588  Beginner to Pro - Financial Analysis in Excel ...   \n",
              "4    1011058       How To Maximize Your Profits Trading Options   \n",
              "\n",
              "                                                 url  is_paid  price  \\\n",
              "0  https://www.udemy.com/ultimate-investment-bank...     True    200   \n",
              "1      https://www.udemy.com/goods-and-services-tax/     True     75   \n",
              "2  https://www.udemy.com/financial-modeling-for-b...     True     45   \n",
              "3  https://www.udemy.com/complete-excel-finance-c...     True     95   \n",
              "4  https://www.udemy.com/how-to-maximize-your-pro...     True    200   \n",
              "\n",
              "   num_subscribers  num_reviews  num_lectures               level  \\\n",
              "0             2147           23            51          All Levels   \n",
              "1             2792          923           274          All Levels   \n",
              "2             2174           74            51  Intermediate Level   \n",
              "3             2451           11            36          All Levels   \n",
              "4             1276           45            26  Intermediate Level   \n",
              "\n",
              "   content_duration       published_timestamp           subject  \n",
              "0               1.5 2017-01-18 20:58:58+00:00  Business Finance  \n",
              "1              39.0 2017-03-09 16:34:20+00:00  Business Finance  \n",
              "2               2.5 2016-12-19 19:26:30+00:00  Business Finance  \n",
              "3               3.0 2017-05-30 20:07:24+00:00  Business Finance  \n",
              "4               2.0 2016-12-13 14:57:18+00:00  Business Finance  "
            ],
            "text/html": [
              "\n",
              "  <div id=\"df-bfd4ad09-6fe3-40b8-9047-10792c1a23df\">\n",
              "    <div class=\"colab-df-container\">\n",
              "      <div>\n",
              "<style scoped>\n",
              "    .dataframe tbody tr th:only-of-type {\n",
              "        vertical-align: middle;\n",
              "    }\n",
              "\n",
              "    .dataframe tbody tr th {\n",
              "        vertical-align: top;\n",
              "    }\n",
              "\n",
              "    .dataframe thead th {\n",
              "        text-align: right;\n",
              "    }\n",
              "</style>\n",
              "<table border=\"1\" class=\"dataframe\">\n",
              "  <thead>\n",
              "    <tr style=\"text-align: right;\">\n",
              "      <th></th>\n",
              "      <th>course_id</th>\n",
              "      <th>course_title</th>\n",
              "      <th>url</th>\n",
              "      <th>is_paid</th>\n",
              "      <th>price</th>\n",
              "      <th>num_subscribers</th>\n",
              "      <th>num_reviews</th>\n",
              "      <th>num_lectures</th>\n",
              "      <th>level</th>\n",
              "      <th>content_duration</th>\n",
              "      <th>published_timestamp</th>\n",
              "      <th>subject</th>\n",
              "    </tr>\n",
              "  </thead>\n",
              "  <tbody>\n",
              "    <tr>\n",
              "      <th>0</th>\n",
              "      <td>1070968</td>\n",
              "      <td>Ultimate Investment Banking Course</td>\n",
              "      <td>https://www.udemy.com/ultimate-investment-bank...</td>\n",
              "      <td>True</td>\n",
              "      <td>200</td>\n",
              "      <td>2147</td>\n",
              "      <td>23</td>\n",
              "      <td>51</td>\n",
              "      <td>All Levels</td>\n",
              "      <td>1.5</td>\n",
              "      <td>2017-01-18 20:58:58+00:00</td>\n",
              "      <td>Business Finance</td>\n",
              "    </tr>\n",
              "    <tr>\n",
              "      <th>1</th>\n",
              "      <td>1113822</td>\n",
              "      <td>Complete GST Course &amp; Certification - Grow You...</td>\n",
              "      <td>https://www.udemy.com/goods-and-services-tax/</td>\n",
              "      <td>True</td>\n",
              "      <td>75</td>\n",
              "      <td>2792</td>\n",
              "      <td>923</td>\n",
              "      <td>274</td>\n",
              "      <td>All Levels</td>\n",
              "      <td>39.0</td>\n",
              "      <td>2017-03-09 16:34:20+00:00</td>\n",
              "      <td>Business Finance</td>\n",
              "    </tr>\n",
              "    <tr>\n",
              "      <th>2</th>\n",
              "      <td>1006314</td>\n",
              "      <td>Financial Modeling for Business Analysts and C...</td>\n",
              "      <td>https://www.udemy.com/financial-modeling-for-b...</td>\n",
              "      <td>True</td>\n",
              "      <td>45</td>\n",
              "      <td>2174</td>\n",
              "      <td>74</td>\n",
              "      <td>51</td>\n",
              "      <td>Intermediate Level</td>\n",
              "      <td>2.5</td>\n",
              "      <td>2016-12-19 19:26:30+00:00</td>\n",
              "      <td>Business Finance</td>\n",
              "    </tr>\n",
              "    <tr>\n",
              "      <th>3</th>\n",
              "      <td>1210588</td>\n",
              "      <td>Beginner to Pro - Financial Analysis in Excel ...</td>\n",
              "      <td>https://www.udemy.com/complete-excel-finance-c...</td>\n",
              "      <td>True</td>\n",
              "      <td>95</td>\n",
              "      <td>2451</td>\n",
              "      <td>11</td>\n",
              "      <td>36</td>\n",
              "      <td>All Levels</td>\n",
              "      <td>3.0</td>\n",
              "      <td>2017-05-30 20:07:24+00:00</td>\n",
              "      <td>Business Finance</td>\n",
              "    </tr>\n",
              "    <tr>\n",
              "      <th>4</th>\n",
              "      <td>1011058</td>\n",
              "      <td>How To Maximize Your Profits Trading Options</td>\n",
              "      <td>https://www.udemy.com/how-to-maximize-your-pro...</td>\n",
              "      <td>True</td>\n",
              "      <td>200</td>\n",
              "      <td>1276</td>\n",
              "      <td>45</td>\n",
              "      <td>26</td>\n",
              "      <td>Intermediate Level</td>\n",
              "      <td>2.0</td>\n",
              "      <td>2016-12-13 14:57:18+00:00</td>\n",
              "      <td>Business Finance</td>\n",
              "    </tr>\n",
              "  </tbody>\n",
              "</table>\n",
              "</div>\n",
              "      <button class=\"colab-df-convert\" onclick=\"convertToInteractive('df-bfd4ad09-6fe3-40b8-9047-10792c1a23df')\"\n",
              "              title=\"Convert this dataframe to an interactive table.\"\n",
              "              style=\"display:none;\">\n",
              "        \n",
              "  <svg xmlns=\"http://www.w3.org/2000/svg\" height=\"24px\"viewBox=\"0 0 24 24\"\n",
              "       width=\"24px\">\n",
              "    <path d=\"M0 0h24v24H0V0z\" fill=\"none\"/>\n",
              "    <path d=\"M18.56 5.44l.94 2.06.94-2.06 2.06-.94-2.06-.94-.94-2.06-.94 2.06-2.06.94zm-11 1L8.5 8.5l.94-2.06 2.06-.94-2.06-.94L8.5 2.5l-.94 2.06-2.06.94zm10 10l.94 2.06.94-2.06 2.06-.94-2.06-.94-.94-2.06-.94 2.06-2.06.94z\"/><path d=\"M17.41 7.96l-1.37-1.37c-.4-.4-.92-.59-1.43-.59-.52 0-1.04.2-1.43.59L10.3 9.45l-7.72 7.72c-.78.78-.78 2.05 0 2.83L4 21.41c.39.39.9.59 1.41.59.51 0 1.02-.2 1.41-.59l7.78-7.78 2.81-2.81c.8-.78.8-2.07 0-2.86zM5.41 20L4 18.59l7.72-7.72 1.47 1.35L5.41 20z\"/>\n",
              "  </svg>\n",
              "      </button>\n",
              "      \n",
              "  <style>\n",
              "    .colab-df-container {\n",
              "      display:flex;\n",
              "      flex-wrap:wrap;\n",
              "      gap: 12px;\n",
              "    }\n",
              "\n",
              "    .colab-df-convert {\n",
              "      background-color: #E8F0FE;\n",
              "      border: none;\n",
              "      border-radius: 50%;\n",
              "      cursor: pointer;\n",
              "      display: none;\n",
              "      fill: #1967D2;\n",
              "      height: 32px;\n",
              "      padding: 0 0 0 0;\n",
              "      width: 32px;\n",
              "    }\n",
              "\n",
              "    .colab-df-convert:hover {\n",
              "      background-color: #E2EBFA;\n",
              "      box-shadow: 0px 1px 2px rgba(60, 64, 67, 0.3), 0px 1px 3px 1px rgba(60, 64, 67, 0.15);\n",
              "      fill: #174EA6;\n",
              "    }\n",
              "\n",
              "    [theme=dark] .colab-df-convert {\n",
              "      background-color: #3B4455;\n",
              "      fill: #D2E3FC;\n",
              "    }\n",
              "\n",
              "    [theme=dark] .colab-df-convert:hover {\n",
              "      background-color: #434B5C;\n",
              "      box-shadow: 0px 1px 3px 1px rgba(0, 0, 0, 0.15);\n",
              "      filter: drop-shadow(0px 1px 2px rgba(0, 0, 0, 0.3));\n",
              "      fill: #FFFFFF;\n",
              "    }\n",
              "  </style>\n",
              "\n",
              "      <script>\n",
              "        const buttonEl =\n",
              "          document.querySelector('#df-bfd4ad09-6fe3-40b8-9047-10792c1a23df button.colab-df-convert');\n",
              "        buttonEl.style.display =\n",
              "          google.colab.kernel.accessAllowed ? 'block' : 'none';\n",
              "\n",
              "        async function convertToInteractive(key) {\n",
              "          const element = document.querySelector('#df-bfd4ad09-6fe3-40b8-9047-10792c1a23df');\n",
              "          const dataTable =\n",
              "            await google.colab.kernel.invokeFunction('convertToInteractive',\n",
              "                                                     [key], {});\n",
              "          if (!dataTable) return;\n",
              "\n",
              "          const docLinkHtml = 'Like what you see? Visit the ' +\n",
              "            '<a target=\"_blank\" href=https://colab.research.google.com/notebooks/data_table.ipynb>data table notebook</a>'\n",
              "            + ' to learn more about interactive tables.';\n",
              "          element.innerHTML = '';\n",
              "          dataTable['output_type'] = 'display_data';\n",
              "          await google.colab.output.renderOutput(dataTable, element);\n",
              "          const docLink = document.createElement('div');\n",
              "          docLink.innerHTML = docLinkHtml;\n",
              "          element.appendChild(docLink);\n",
              "        }\n",
              "      </script>\n",
              "    </div>\n",
              "  </div>\n",
              "  "
            ]
          },
          "metadata": {},
          "execution_count": 87
        }
      ]
    },
    {
      "cell_type": "code",
      "source": [
        "df['level'].unique()"
      ],
      "metadata": {
        "colab": {
          "base_uri": "https://localhost:8080/"
        },
        "id": "FRRxOs6d8_UG",
        "outputId": "6fdb6f9a-5584-4422-c2e5-97d18240f79b"
      },
      "execution_count": null,
      "outputs": [
        {
          "output_type": "execute_result",
          "data": {
            "text/plain": [
              "array(['All Levels', 'Intermediate Level', 'Beginner Level',\n",
              "       'Expert Level'], dtype=object)"
            ]
          },
          "metadata": {},
          "execution_count": 97
        }
      ]
    },
    {
      "cell_type": "code",
      "source": [
        "#or\n",
        "df['level'].value_counts()"
      ],
      "metadata": {
        "colab": {
          "base_uri": "https://localhost:8080/"
        },
        "id": "LdmbbGnL9NJd",
        "outputId": "72d7ea01-446a-4cb1-ec1e-67683925e6e5"
      },
      "execution_count": null,
      "outputs": [
        {
          "output_type": "execute_result",
          "data": {
            "text/plain": [
              "All Levels            1925\n",
              "Beginner Level        1268\n",
              "Intermediate Level     421\n",
              "Expert Level            58\n",
              "Name: level, dtype: int64"
            ]
          },
          "metadata": {},
          "execution_count": 98
        }
      ]
    },
    {
      "cell_type": "code",
      "source": [
        "sns.countplot(x='level', data=df)\n"
      ],
      "metadata": {
        "colab": {
          "base_uri": "https://localhost:8080/",
          "height": 468
        },
        "id": "ON6zmdTP9SP1",
        "outputId": "930fd1f7-3368-4833-b173-c71210d56b59"
      },
      "execution_count": null,
      "outputs": [
        {
          "output_type": "execute_result",
          "data": {
            "text/plain": [
              "<Axes: xlabel='level', ylabel='count'>"
            ]
          },
          "metadata": {},
          "execution_count": 99
        },
        {
          "output_type": "display_data",
          "data": {
            "text/plain": [
              "<Figure size 640x480 with 1 Axes>"
            ],
            "image/png": "[encoded data removed]"
          },
          "metadata": {}
        }
      ]
    },
    {
      "cell_type": "markdown",
      "source": [
        "# Display the count of paid and free courses"
      ],
      "metadata": {
        "id": "VTbbaQFLAD_h"
      }
    },
    {
      "cell_type": "code",
      "source": [
        "df.tail()"
      ],
      "metadata": {
        "colab": {
          "base_uri": "https://localhost:8080/",
          "height": 423
        },
        "id": "oMPiBNyMAIFB",
        "outputId": "bf45c4b1-7a9b-4484-85d6-4bf9f9d975b8"
      },
      "execution_count": null,
      "outputs": [
        {
          "output_type": "execute_result",
          "data": {
            "text/plain": [
              "      course_id                                       course_title  \\\n",
              "3673     775618  Learn jQuery from Scratch - Master of JavaScri...   \n",
              "3674    1088178  How To Design A WordPress Website With No Codi...   \n",
              "3675     635248                      Learn and Build using Polymer   \n",
              "3676     905096  CSS Animations: Create Amazing Effects on Your...   \n",
              "3677     297602  Using MODX CMS to Build Websites: A Beginner's...   \n",
              "\n",
              "                                                    url  is_paid  price  \\\n",
              "3673  https://www.udemy.com/easy-jquery-for-beginner...     True    100   \n",
              "3674  https://www.udemy.com/how-to-make-a-wordpress-...     True     25   \n",
              "3675  https://www.udemy.com/learn-and-build-using-po...     True     40   \n",
              "3676  https://www.udemy.com/css-animations-create-am...     True     50   \n",
              "3677  https://www.udemy.com/using-modx-cms-to-build-...     True     45   \n",
              "\n",
              "      num_subscribers  num_reviews  num_lectures           level  \\\n",
              "3673             1040           14            21      All Levels   \n",
              "3674              306            3            42  Beginner Level   \n",
              "3675              513          169            48      All Levels   \n",
              "3676              300           31            38      All Levels   \n",
              "3677              901           36            20  Beginner Level   \n",
              "\n",
              "      content_duration       published_timestamp          subject  \n",
              "3673               2.0 2016-06-14 17:36:46+00:00  Web Development  \n",
              "3674               3.5 2017-03-10 22:24:30+00:00  Web Development  \n",
              "3675               3.5 2015-12-30 16:41:42+00:00  Web Development  \n",
              "3676               3.0 2016-08-11 19:06:15+00:00  Web Development  \n",
              "3677               2.0 2014-09-28 19:51:11+00:00  Web Development  "
            ],
            "text/html": [
              "\n",
              "  <div id=\"df-8b6e36ae-0665-46a6-a0da-cc67d6b4715e\">\n",
              "    <div class=\"colab-df-container\">\n",
              "      <div>\n",
              "<style scoped>\n",
              "    .dataframe tbody tr th:only-of-type {\n",
              "        vertical-align: middle;\n",
              "    }\n",
              "\n",
              "    .dataframe tbody tr th {\n",
              "        vertical-align: top;\n",
              "    }\n",
              "\n",
              "    .dataframe thead th {\n",
              "        text-align: right;\n",
              "    }\n",
              "</style>\n",
              "<table border=\"1\" class=\"dataframe\">\n",
              "  <thead>\n",
              "    <tr style=\"text-align: right;\">\n",
              "      <th></th>\n",
              "      <th>course_id</th>\n",
              "      <th>course_title</th>\n",
              "      <th>url</th>\n",
              "      <th>is_paid</th>\n",
              "      <th>price</th>\n",
              "      <th>num_subscribers</th>\n",
              "      <th>num_reviews</th>\n",
              "      <th>num_lectures</th>\n",
              "      <th>level</th>\n",
              "      <th>content_duration</th>\n",
              "      <th>published_timestamp</th>\n",
              "      <th>subject</th>\n",
              "    </tr>\n",
              "  </thead>\n",
              "  <tbody>\n",
              "    <tr>\n",
              "      <th>3673</th>\n",
              "      <td>775618</td>\n",
              "      <td>Learn jQuery from Scratch - Master of JavaScri...</td>\n",
              "      <td>https://www.udemy.com/easy-jquery-for-beginner...</td>\n",
              "      <td>True</td>\n",
              "      <td>100</td>\n",
              "      <td>1040</td>\n",
              "      <td>14</td>\n",
              "      <td>21</td>\n",
              "      <td>All Levels</td>\n",
              "      <td>2.0</td>\n",
              "      <td>2016-06-14 17:36:46+00:00</td>\n",
              "      <td>Web Development</td>\n",
              "    </tr>\n",
              "    <tr>\n",
              "      <th>3674</th>\n",
              "      <td>1088178</td>\n",
              "      <td>How To Design A WordPress Website With No Codi...</td>\n",
              "      <td>https://www.udemy.com/how-to-make-a-wordpress-...</td>\n",
              "      <td>True</td>\n",
              "      <td>25</td>\n",
              "      <td>306</td>\n",
              "      <td>3</td>\n",
              "      <td>42</td>\n",
              "      <td>Beginner Level</td>\n",
              "      <td>3.5</td>\n",
              "      <td>2017-03-10 22:24:30+00:00</td>\n",
              "      <td>Web Development</td>\n",
              "    </tr>\n",
              "    <tr>\n",
              "      <th>3675</th>\n",
              "      <td>635248</td>\n",
              "      <td>Learn and Build using Polymer</td>\n",
              "      <td>https://www.udemy.com/learn-and-build-using-po...</td>\n",
              "      <td>True</td>\n",
              "      <td>40</td>\n",
              "      <td>513</td>\n",
              "      <td>169</td>\n",
              "      <td>48</td>\n",
              "      <td>All Levels</td>\n",
              "      <td>3.5</td>\n",
              "      <td>2015-12-30 16:41:42+00:00</td>\n",
              "      <td>Web Development</td>\n",
              "    </tr>\n",
              "    <tr>\n",
              "      <th>3676</th>\n",
              "      <td>905096</td>\n",
              "      <td>CSS Animations: Create Amazing Effects on Your...</td>\n",
              "      <td>https://www.udemy.com/css-animations-create-am...</td>\n",
              "      <td>True</td>\n",
              "      <td>50</td>\n",
              "      <td>300</td>\n",
              "      <td>31</td>\n",
              "      <td>38</td>\n",
              "      <td>All Levels</td>\n",
              "      <td>3.0</td>\n",
              "      <td>2016-08-11 19:06:15+00:00</td>\n",
              "      <td>Web Development</td>\n",
              "    </tr>\n",
              "    <tr>\n",
              "      <th>3677</th>\n",
              "      <td>297602</td>\n",
              "      <td>Using MODX CMS to Build Websites: A Beginner's...</td>\n",
              "      <td>https://www.udemy.com/using-modx-cms-to-build-...</td>\n",
              "      <td>True</td>\n",
              "      <td>45</td>\n",
              "      <td>901</td>\n",
              "      <td>36</td>\n",
              "      <td>20</td>\n",
              "      <td>Beginner Level</td>\n",
              "      <td>2.0</td>\n",
              "      <td>2014-09-28 19:51:11+00:00</td>\n",
              "      <td>Web Development</td>\n",
              "    </tr>\n",
              "  </tbody>\n",
              "</table>\n",
              "</div>\n",
              "      <button class=\"colab-df-convert\" onclick=\"convertToInteractive('df-8b6e36ae-0665-46a6-a0da-cc67d6b4715e')\"\n",
              "              title=\"Convert this dataframe to an interactive table.\"\n",
              "              style=\"display:none;\">\n",
              "        \n",
              "  <svg xmlns=\"http://www.w3.org/2000/svg\" height=\"24px\"viewBox=\"0 0 24 24\"\n",
              "       width=\"24px\">\n",
              "    <path d=\"M0 0h24v24H0V0z\" fill=\"none\"/>\n",
              "    <path d=\"M18.56 5.44l.94 2.06.94-2.06 2.06-.94-2.06-.94-.94-2.06-.94 2.06-2.06.94zm-11 1L8.5 8.5l.94-2.06 2.06-.94-2.06-.94L8.5 2.5l-.94 2.06-2.06.94zm10 10l.94 2.06.94-2.06 2.06-.94-2.06-.94-.94-2.06-.94 2.06-2.06.94z\"/><path d=\"M17.41 7.96l-1.37-1.37c-.4-.4-.92-.59-1.43-.59-.52 0-1.04.2-1.43.59L10.3 9.45l-7.72 7.72c-.78.78-.78 2.05 0 2.83L4 21.41c.39.39.9.59 1.41.59.51 0 1.02-.2 1.41-.59l7.78-7.78 2.81-2.81c.8-.78.8-2.07 0-2.86zM5.41 20L4 18.59l7.72-7.72 1.47 1.35L5.41 20z\"/>\n",
              "  </svg>\n",
              "      </button>\n",
              "      \n",
              "  <style>\n",
              "    .colab-df-container {\n",
              "      display:flex;\n",
              "      flex-wrap:wrap;\n",
              "      gap: 12px;\n",
              "    }\n",
              "\n",
              "    .colab-df-convert {\n",
              "      background-color: #E8F0FE;\n",
              "      border: none;\n",
              "      border-radius: 50%;\n",
              "      cursor: pointer;\n",
              "      display: none;\n",
              "      fill: #1967D2;\n",
              "      height: 32px;\n",
              "      padding: 0 0 0 0;\n",
              "      width: 32px;\n",
              "    }\n",
              "\n",
              "    .colab-df-convert:hover {\n",
              "      background-color: #E2EBFA;\n",
              "      box-shadow: 0px 1px 2px rgba(60, 64, 67, 0.3), 0px 1px 3px 1px rgba(60, 64, 67, 0.15);\n",
              "      fill: #174EA6;\n",
              "    }\n",
              "\n",
              "    [theme=dark] .colab-df-convert {\n",
              "      background-color: #3B4455;\n",
              "      fill: #D2E3FC;\n",
              "    }\n",
              "\n",
              "    [theme=dark] .colab-df-convert:hover {\n",
              "      background-color: #434B5C;\n",
              "      box-shadow: 0px 1px 3px 1px rgba(0, 0, 0, 0.15);\n",
              "      filter: drop-shadow(0px 1px 2px rgba(0, 0, 0, 0.3));\n",
              "      fill: #FFFFFF;\n",
              "    }\n",
              "  </style>\n",
              "\n",
              "      <script>\n",
              "        const buttonEl =\n",
              "          document.querySelector('#df-8b6e36ae-0665-46a6-a0da-cc67d6b4715e button.colab-df-convert');\n",
              "        buttonEl.style.display =\n",
              "          google.colab.kernel.accessAllowed ? 'block' : 'none';\n",
              "\n",
              "        async function convertToInteractive(key) {\n",
              "          const element = document.querySelector('#df-8b6e36ae-0665-46a6-a0da-cc67d6b4715e');\n",
              "          const dataTable =\n",
              "            await google.colab.kernel.invokeFunction('convertToInteractive',\n",
              "                                                     [key], {});\n",
              "          if (!dataTable) return;\n",
              "\n",
              "          const docLinkHtml = 'Like what you see? Visit the ' +\n",
              "            '<a target=\"_blank\" href=https://colab.research.google.com/notebooks/data_table.ipynb>data table notebook</a>'\n",
              "            + ' to learn more about interactive tables.';\n",
              "          element.innerHTML = '';\n",
              "          dataTable['output_type'] = 'display_data';\n",
              "          await google.colab.output.renderOutput(dataTable, element);\n",
              "          const docLink = document.createElement('div');\n",
              "          docLink.innerHTML = docLinkHtml;\n",
              "          element.appendChild(docLink);\n",
              "        }\n",
              "      </script>\n",
              "    </div>\n",
              "  </div>\n",
              "  "
            ]
          },
          "metadata": {},
          "execution_count": 108
        }
      ]
    },
    {
      "cell_type": "code",
      "source": [
        "df['is_paid'].value_counts()"
      ],
      "metadata": {
        "colab": {
          "base_uri": "https://localhost:8080/"
        },
        "id": "4VxzPRluCBtK",
        "outputId": "3382b827-9dd2-47e0-dc4f-653d3276eebc"
      },
      "execution_count": null,
      "outputs": [
        {
          "output_type": "execute_result",
          "data": {
            "text/plain": [
              "True     3362\n",
              "False     310\n",
              "Name: is_paid, dtype: int64"
            ]
          },
          "metadata": {},
          "execution_count": 121
        }
      ]
    },
    {
      "cell_type": "code",
      "source": [
        "sns.countplot(x='is_paid', data=df)"
      ],
      "metadata": {
        "colab": {
          "base_uri": "https://localhost:8080/",
          "height": 469
        },
        "id": "eDBnvAZBAXQA",
        "outputId": "aa1ee86b-9e5a-486c-e38b-b6478baedc6e"
      },
      "execution_count": null,
      "outputs": [
        {
          "output_type": "execute_result",
          "data": {
            "text/plain": [
              "<Axes: xlabel='is_paid', ylabel='count'>"
            ]
          },
          "metadata": {},
          "execution_count": 119
        },
        {
          "output_type": "display_data",
          "data": {
            "text/plain": [
              "<Figure size 640x480 with 1 Axes>"
            ],
            "image/png": "[encoded data removed]"
          },
          "metadata": {}
        }
      ]
    },
    {
      "cell_type": "markdown",
      "source": [
        "# Which course have more lectures (Free or Paid)"
      ],
      "metadata": {
        "id": "rlL5YR-NCNnI"
      }
    },
    {
      "cell_type": "code",
      "source": [
        "df.head(n=2)"
      ],
      "metadata": {
        "colab": {
          "base_uri": "https://localhost:8080/",
          "height": 208
        },
        "id": "8gF3pMCKCSE-",
        "outputId": "3dff0672-f607-40e8-a8f5-f04c0c7c7d4f"
      },
      "execution_count": null,
      "outputs": [
        {
          "output_type": "execute_result",
          "data": {
            "text/plain": [
              "   course_id                                       course_title  \\\n",
              "0    1070968                 Ultimate Investment Banking Course   \n",
              "1    1113822  Complete GST Course & Certification - Grow You...   \n",
              "\n",
              "                                                 url  is_paid  price  \\\n",
              "0  https://www.udemy.com/ultimate-investment-bank...     True    200   \n",
              "1      https://www.udemy.com/goods-and-services-tax/     True     75   \n",
              "\n",
              "   num_subscribers  num_reviews  num_lectures       level  content_duration  \\\n",
              "0             2147           23            51  All Levels               1.5   \n",
              "1             2792          923           274  All Levels              39.0   \n",
              "\n",
              "        published_timestamp           subject  \n",
              "0 2017-01-18 20:58:58+00:00  Business Finance  \n",
              "1 2017-03-09 16:34:20+00:00  Business Finance  "
            ],
            "text/html": [
              "\n",
              "  <div id=\"df-574a4d67-3434-4589-bb8f-bc949242e084\">\n",
              "    <div class=\"colab-df-container\">\n",
              "      <div>\n",
              "<style scoped>\n",
              "    .dataframe tbody tr th:only-of-type {\n",
              "        vertical-align: middle;\n",
              "    }\n",
              "\n",
              "    .dataframe tbody tr th {\n",
              "        vertical-align: top;\n",
              "    }\n",
              "\n",
              "    .dataframe thead th {\n",
              "        text-align: right;\n",
              "    }\n",
              "</style>\n",
              "<table border=\"1\" class=\"dataframe\">\n",
              "  <thead>\n",
              "    <tr style=\"text-align: right;\">\n",
              "      <th></th>\n",
              "      <th>course_id</th>\n",
              "      <th>course_title</th>\n",
              "      <th>url</th>\n",
              "      <th>is_paid</th>\n",
              "      <th>price</th>\n",
              "      <th>num_subscribers</th>\n",
              "      <th>num_reviews</th>\n",
              "      <th>num_lectures</th>\n",
              "      <th>level</th>\n",
              "      <th>content_duration</th>\n",
              "      <th>published_timestamp</th>\n",
              "      <th>subject</th>\n",
              "    </tr>\n",
              "  </thead>\n",
              "  <tbody>\n",
              "    <tr>\n",
              "      <th>0</th>\n",
              "      <td>1070968</td>\n",
              "      <td>Ultimate Investment Banking Course</td>\n",
              "      <td>https://www.udemy.com/ultimate-investment-bank...</td>\n",
              "      <td>True</td>\n",
              "      <td>200</td>\n",
              "      <td>2147</td>\n",
              "      <td>23</td>\n",
              "      <td>51</td>\n",
              "      <td>All Levels</td>\n",
              "      <td>1.5</td>\n",
              "      <td>2017-01-18 20:58:58+00:00</td>\n",
              "      <td>Business Finance</td>\n",
              "    </tr>\n",
              "    <tr>\n",
              "      <th>1</th>\n",
              "      <td>1113822</td>\n",
              "      <td>Complete GST Course &amp; Certification - Grow You...</td>\n",
              "      <td>https://www.udemy.com/goods-and-services-tax/</td>\n",
              "      <td>True</td>\n",
              "      <td>75</td>\n",
              "      <td>2792</td>\n",
              "      <td>923</td>\n",
              "      <td>274</td>\n",
              "      <td>All Levels</td>\n",
              "      <td>39.0</td>\n",
              "      <td>2017-03-09 16:34:20+00:00</td>\n",
              "      <td>Business Finance</td>\n",
              "    </tr>\n",
              "  </tbody>\n",
              "</table>\n",
              "</div>\n",
              "      <button class=\"colab-df-convert\" onclick=\"convertToInteractive('df-574a4d67-3434-4589-bb8f-bc949242e084')\"\n",
              "              title=\"Convert this dataframe to an interactive table.\"\n",
              "              style=\"display:none;\">\n",
              "        \n",
              "  <svg xmlns=\"http://www.w3.org/2000/svg\" height=\"24px\"viewBox=\"0 0 24 24\"\n",
              "       width=\"24px\">\n",
              "    <path d=\"M0 0h24v24H0V0z\" fill=\"none\"/>\n",
              "    <path d=\"M18.56 5.44l.94 2.06.94-2.06 2.06-.94-2.06-.94-.94-2.06-.94 2.06-2.06.94zm-11 1L8.5 8.5l.94-2.06 2.06-.94-2.06-.94L8.5 2.5l-.94 2.06-2.06.94zm10 10l.94 2.06.94-2.06 2.06-.94-2.06-.94-.94-2.06-.94 2.06-2.06.94z\"/><path d=\"M17.41 7.96l-1.37-1.37c-.4-.4-.92-.59-1.43-.59-.52 0-1.04.2-1.43.59L10.3 9.45l-7.72 7.72c-.78.78-.78 2.05 0 2.83L4 21.41c.39.39.9.59 1.41.59.51 0 1.02-.2 1.41-.59l7.78-7.78 2.81-2.81c.8-.78.8-2.07 0-2.86zM5.41 20L4 18.59l7.72-7.72 1.47 1.35L5.41 20z\"/>\n",
              "  </svg>\n",
              "      </button>\n",
              "      \n",
              "  <style>\n",
              "    .colab-df-container {\n",
              "      display:flex;\n",
              "      flex-wrap:wrap;\n",
              "      gap: 12px;\n",
              "    }\n",
              "\n",
              "    .colab-df-convert {\n",
              "      background-color: #E8F0FE;\n",
              "      border: none;\n",
              "      border-radius: 50%;\n",
              "      cursor: pointer;\n",
              "      display: none;\n",
              "      fill: #1967D2;\n",
              "      height: 32px;\n",
              "      padding: 0 0 0 0;\n",
              "      width: 32px;\n",
              "    }\n",
              "\n",
              "    .colab-df-convert:hover {\n",
              "      background-color: #E2EBFA;\n",
              "      box-shadow: 0px 1px 2px rgba(60, 64, 67, 0.3), 0px 1px 3px 1px rgba(60, 64, 67, 0.15);\n",
              "      fill: #174EA6;\n",
              "    }\n",
              "\n",
              "    [theme=dark] .colab-df-convert {\n",
              "      background-color: #3B4455;\n",
              "      fill: #D2E3FC;\n",
              "    }\n",
              "\n",
              "    [theme=dark] .colab-df-convert:hover {\n",
              "      background-color: #434B5C;\n",
              "      box-shadow: 0px 1px 3px 1px rgba(0, 0, 0, 0.15);\n",
              "      filter: drop-shadow(0px 1px 2px rgba(0, 0, 0, 0.3));\n",
              "      fill: #FFFFFF;\n",
              "    }\n",
              "  </style>\n",
              "\n",
              "      <script>\n",
              "        const buttonEl =\n",
              "          document.querySelector('#df-574a4d67-3434-4589-bb8f-bc949242e084 button.colab-df-convert');\n",
              "        buttonEl.style.display =\n",
              "          google.colab.kernel.accessAllowed ? 'block' : 'none';\n",
              "\n",
              "        async function convertToInteractive(key) {\n",
              "          const element = document.querySelector('#df-574a4d67-3434-4589-bb8f-bc949242e084');\n",
              "          const dataTable =\n",
              "            await google.colab.kernel.invokeFunction('convertToInteractive',\n",
              "                                                     [key], {});\n",
              "          if (!dataTable) return;\n",
              "\n",
              "          const docLinkHtml = 'Like what you see? Visit the ' +\n",
              "            '<a target=\"_blank\" href=https://colab.research.google.com/notebooks/data_table.ipynb>data table notebook</a>'\n",
              "            + ' to learn more about interactive tables.';\n",
              "          element.innerHTML = '';\n",
              "          dataTable['output_type'] = 'display_data';\n",
              "          await google.colab.output.renderOutput(dataTable, element);\n",
              "          const docLink = document.createElement('div');\n",
              "          docLink.innerHTML = docLinkHtml;\n",
              "          element.appendChild(docLink);\n",
              "        }\n",
              "      </script>\n",
              "    </div>\n",
              "  </div>\n",
              "  "
            ]
          },
          "metadata": {},
          "execution_count": 123
        }
      ]
    },
    {
      "cell_type": "code",
      "source": [
        "df.groupby(['is_paid']).mean()"
      ],
      "metadata": {
        "colab": {
          "base_uri": "https://localhost:8080/",
          "height": 198
        },
        "id": "RH1eeP-yEvDX",
        "outputId": "045a095a-9293-4039-dc69-4d1fa8356cab"
      },
      "execution_count": null,
      "outputs": [
        {
          "output_type": "stream",
          "name": "stderr",
          "text": [
            "<ipython-input-136-c71ce824b6a0>:1: FutureWarning: The default value of numeric_only in DataFrameGroupBy.mean is deprecated. In a future version, numeric_only will default to False. Either specify numeric_only or select only columns which should be valid for the function.\n",
            "  df.groupby(['is_paid']).mean()\n"
          ]
        },
        {
          "output_type": "execute_result",
          "data": {
            "text/plain": [
              "             course_id      price  num_subscribers  num_reviews  num_lectures  \\\n",
              "is_paid                                                                         \n",
              "False    691446.970968   0.000000     11533.951613   425.929032     21.416129   \n",
              "True     674463.946163  72.198096      2421.270077   131.516359     41.866746   \n",
              "\n",
              "         content_duration  \n",
              "is_paid                    \n",
              "False            2.210753  \n",
              "True             4.271584  "
            ],
            "text/html": [
              "\n",
              "  <div id=\"df-d9eb5a70-4e13-4966-9e1f-cf785d7e0e6a\">\n",
              "    <div class=\"colab-df-container\">\n",
              "      <div>\n",
              "<style scoped>\n",
              "    .dataframe tbody tr th:only-of-type {\n",
              "        vertical-align: middle;\n",
              "    }\n",
              "\n",
              "    .dataframe tbody tr th {\n",
              "        vertical-align: top;\n",
              "    }\n",
              "\n",
              "    .dataframe thead th {\n",
              "        text-align: right;\n",
              "    }\n",
              "</style>\n",
              "<table border=\"1\" class=\"dataframe\">\n",
              "  <thead>\n",
              "    <tr style=\"text-align: right;\">\n",
              "      <th></th>\n",
              "      <th>course_id</th>\n",
              "      <th>price</th>\n",
              "      <th>num_subscribers</th>\n",
              "      <th>num_reviews</th>\n",
              "      <th>num_lectures</th>\n",
              "      <th>content_duration</th>\n",
              "    </tr>\n",
              "    <tr>\n",
              "      <th>is_paid</th>\n",
              "      <th></th>\n",
              "      <th></th>\n",
              "      <th></th>\n",
              "      <th></th>\n",
              "      <th></th>\n",
              "      <th></th>\n",
              "    </tr>\n",
              "  </thead>\n",
              "  <tbody>\n",
              "    <tr>\n",
              "      <th>False</th>\n",
              "      <td>691446.970968</td>\n",
              "      <td>0.000000</td>\n",
              "      <td>11533.951613</td>\n",
              "      <td>425.929032</td>\n",
              "      <td>21.416129</td>\n",
              "      <td>2.210753</td>\n",
              "    </tr>\n",
              "    <tr>\n",
              "      <th>True</th>\n",
              "      <td>674463.946163</td>\n",
              "      <td>72.198096</td>\n",
              "      <td>2421.270077</td>\n",
              "      <td>131.516359</td>\n",
              "      <td>41.866746</td>\n",
              "      <td>4.271584</td>\n",
              "    </tr>\n",
              "  </tbody>\n",
              "</table>\n",
              "</div>\n",
              "      <button class=\"colab-df-convert\" onclick=\"convertToInteractive('df-d9eb5a70-4e13-4966-9e1f-cf785d7e0e6a')\"\n",
              "              title=\"Convert this dataframe to an interactive table.\"\n",
              "              style=\"display:none;\">\n",
              "        \n",
              "  <svg xmlns=\"http://www.w3.org/2000/svg\" height=\"24px\"viewBox=\"0 0 24 24\"\n",
              "       width=\"24px\">\n",
              "    <path d=\"M0 0h24v24H0V0z\" fill=\"none\"/>\n",
              "    <path d=\"M18.56 5.44l.94 2.06.94-2.06 2.06-.94-2.06-.94-.94-2.06-.94 2.06-2.06.94zm-11 1L8.5 8.5l.94-2.06 2.06-.94-2.06-.94L8.5 2.5l-.94 2.06-2.06.94zm10 10l.94 2.06.94-2.06 2.06-.94-2.06-.94-.94-2.06-.94 2.06-2.06.94z\"/><path d=\"M17.41 7.96l-1.37-1.37c-.4-.4-.92-.59-1.43-.59-.52 0-1.04.2-1.43.59L10.3 9.45l-7.72 7.72c-.78.78-.78 2.05 0 2.83L4 21.41c.39.39.9.59 1.41.59.51 0 1.02-.2 1.41-.59l7.78-7.78 2.81-2.81c.8-.78.8-2.07 0-2.86zM5.41 20L4 18.59l7.72-7.72 1.47 1.35L5.41 20z\"/>\n",
              "  </svg>\n",
              "      </button>\n",
              "      \n",
              "  <style>\n",
              "    .colab-df-container {\n",
              "      display:flex;\n",
              "      flex-wrap:wrap;\n",
              "      gap: 12px;\n",
              "    }\n",
              "\n",
              "    .colab-df-convert {\n",
              "      background-color: #E8F0FE;\n",
              "      border: none;\n",
              "      border-radius: 50%;\n",
              "      cursor: pointer;\n",
              "      display: none;\n",
              "      fill: #1967D2;\n",
              "      height: 32px;\n",
              "      padding: 0 0 0 0;\n",
              "      width: 32px;\n",
              "    }\n",
              "\n",
              "    .colab-df-convert:hover {\n",
              "      background-color: #E2EBFA;\n",
              "      box-shadow: 0px 1px 2px rgba(60, 64, 67, 0.3), 0px 1px 3px 1px rgba(60, 64, 67, 0.15);\n",
              "      fill: #174EA6;\n",
              "    }\n",
              "\n",
              "    [theme=dark] .colab-df-convert {\n",
              "      background-color: #3B4455;\n",
              "      fill: #D2E3FC;\n",
              "    }\n",
              "\n",
              "    [theme=dark] .colab-df-convert:hover {\n",
              "      background-color: #434B5C;\n",
              "      box-shadow: 0px 1px 3px 1px rgba(0, 0, 0, 0.15);\n",
              "      filter: drop-shadow(0px 1px 2px rgba(0, 0, 0, 0.3));\n",
              "      fill: #FFFFFF;\n",
              "    }\n",
              "  </style>\n",
              "\n",
              "      <script>\n",
              "        const buttonEl =\n",
              "          document.querySelector('#df-d9eb5a70-4e13-4966-9e1f-cf785d7e0e6a button.colab-df-convert');\n",
              "        buttonEl.style.display =\n",
              "          google.colab.kernel.accessAllowed ? 'block' : 'none';\n",
              "\n",
              "        async function convertToInteractive(key) {\n",
              "          const element = document.querySelector('#df-d9eb5a70-4e13-4966-9e1f-cf785d7e0e6a');\n",
              "          const dataTable =\n",
              "            await google.colab.kernel.invokeFunction('convertToInteractive',\n",
              "                                                     [key], {});\n",
              "          if (!dataTable) return;\n",
              "\n",
              "          const docLinkHtml = 'Like what you see? Visit the ' +\n",
              "            '<a target=\"_blank\" href=https://colab.research.google.com/notebooks/data_table.ipynb>data table notebook</a>'\n",
              "            + ' to learn more about interactive tables.';\n",
              "          element.innerHTML = '';\n",
              "          dataTable['output_type'] = 'display_data';\n",
              "          await google.colab.output.renderOutput(dataTable, element);\n",
              "          const docLink = document.createElement('div');\n",
              "          docLink.innerHTML = docLinkHtml;\n",
              "          element.appendChild(docLink);\n",
              "        }\n",
              "      </script>\n",
              "    </div>\n",
              "  </div>\n",
              "  "
            ]
          },
          "metadata": {},
          "execution_count": 136
        }
      ]
    },
    {
      "cell_type": "markdown",
      "source": [
        "# Which courses have a higher number of subscribers free or paid?"
      ],
      "metadata": {
        "id": "JVtHu9aGFD8x"
      }
    },
    {
      "cell_type": "code",
      "source": [
        "df.head(n=2)"
      ],
      "metadata": {
        "colab": {
          "base_uri": "https://localhost:8080/",
          "height": 208
        },
        "id": "XH-J6S-MFKH8",
        "outputId": "96b07c7e-90ec-410c-c527-0e168c3c7e1d"
      },
      "execution_count": null,
      "outputs": [
        {
          "output_type": "execute_result",
          "data": {
            "text/plain": [
              "   course_id                                       course_title  \\\n",
              "0    1070968                 Ultimate Investment Banking Course   \n",
              "1    1113822  Complete GST Course & Certification - Grow You...   \n",
              "\n",
              "                                                 url  is_paid  price  \\\n",
              "0  https://www.udemy.com/ultimate-investment-bank...     True    200   \n",
              "1      https://www.udemy.com/goods-and-services-tax/     True     75   \n",
              "\n",
              "   num_subscribers  num_reviews  num_lectures       level  content_duration  \\\n",
              "0             2147           23            51  All Levels               1.5   \n",
              "1             2792          923           274  All Levels              39.0   \n",
              "\n",
              "        published_timestamp           subject  \n",
              "0 2017-01-18 20:58:58+00:00  Business Finance  \n",
              "1 2017-03-09 16:34:20+00:00  Business Finance  "
            ],
            "text/html": [
              "\n",
              "  <div id=\"df-e8b28e35-8c37-4717-8211-2fc3405d5d0a\">\n",
              "    <div class=\"colab-df-container\">\n",
              "      <div>\n",
              "<style scoped>\n",
              "    .dataframe tbody tr th:only-of-type {\n",
              "        vertical-align: middle;\n",
              "    }\n",
              "\n",
              "    .dataframe tbody tr th {\n",
              "        vertical-align: top;\n",
              "    }\n",
              "\n",
              "    .dataframe thead th {\n",
              "        text-align: right;\n",
              "    }\n",
              "</style>\n",
              "<table border=\"1\" class=\"dataframe\">\n",
              "  <thead>\n",
              "    <tr style=\"text-align: right;\">\n",
              "      <th></th>\n",
              "      <th>course_id</th>\n",
              "      <th>course_title</th>\n",
              "      <th>url</th>\n",
              "      <th>is_paid</th>\n",
              "      <th>price</th>\n",
              "      <th>num_subscribers</th>\n",
              "      <th>num_reviews</th>\n",
              "      <th>num_lectures</th>\n",
              "      <th>level</th>\n",
              "      <th>content_duration</th>\n",
              "      <th>published_timestamp</th>\n",
              "      <th>subject</th>\n",
              "    </tr>\n",
              "  </thead>\n",
              "  <tbody>\n",
              "    <tr>\n",
              "      <th>0</th>\n",
              "      <td>1070968</td>\n",
              "      <td>Ultimate Investment Banking Course</td>\n",
              "      <td>https://www.udemy.com/ultimate-investment-bank...</td>\n",
              "      <td>True</td>\n",
              "      <td>200</td>\n",
              "      <td>2147</td>\n",
              "      <td>23</td>\n",
              "      <td>51</td>\n",
              "      <td>All Levels</td>\n",
              "      <td>1.5</td>\n",
              "      <td>2017-01-18 20:58:58+00:00</td>\n",
              "      <td>Business Finance</td>\n",
              "    </tr>\n",
              "    <tr>\n",
              "      <th>1</th>\n",
              "      <td>1113822</td>\n",
              "      <td>Complete GST Course &amp; Certification - Grow You...</td>\n",
              "      <td>https://www.udemy.com/goods-and-services-tax/</td>\n",
              "      <td>True</td>\n",
              "      <td>75</td>\n",
              "      <td>2792</td>\n",
              "      <td>923</td>\n",
              "      <td>274</td>\n",
              "      <td>All Levels</td>\n",
              "      <td>39.0</td>\n",
              "      <td>2017-03-09 16:34:20+00:00</td>\n",
              "      <td>Business Finance</td>\n",
              "    </tr>\n",
              "  </tbody>\n",
              "</table>\n",
              "</div>\n",
              "      <button class=\"colab-df-convert\" onclick=\"convertToInteractive('df-e8b28e35-8c37-4717-8211-2fc3405d5d0a')\"\n",
              "              title=\"Convert this dataframe to an interactive table.\"\n",
              "              style=\"display:none;\">\n",
              "        \n",
              "  <svg xmlns=\"http://www.w3.org/2000/svg\" height=\"24px\"viewBox=\"0 0 24 24\"\n",
              "       width=\"24px\">\n",
              "    <path d=\"M0 0h24v24H0V0z\" fill=\"none\"/>\n",
              "    <path d=\"M18.56 5.44l.94 2.06.94-2.06 2.06-.94-2.06-.94-.94-2.06-.94 2.06-2.06.94zm-11 1L8.5 8.5l.94-2.06 2.06-.94-2.06-.94L8.5 2.5l-.94 2.06-2.06.94zm10 10l.94 2.06.94-2.06 2.06-.94-2.06-.94-.94-2.06-.94 2.06-2.06.94z\"/><path d=\"M17.41 7.96l-1.37-1.37c-.4-.4-.92-.59-1.43-.59-.52 0-1.04.2-1.43.59L10.3 9.45l-7.72 7.72c-.78.78-.78 2.05 0 2.83L4 21.41c.39.39.9.59 1.41.59.51 0 1.02-.2 1.41-.59l7.78-7.78 2.81-2.81c.8-.78.8-2.07 0-2.86zM5.41 20L4 18.59l7.72-7.72 1.47 1.35L5.41 20z\"/>\n",
              "  </svg>\n",
              "      </button>\n",
              "      \n",
              "  <style>\n",
              "    .colab-df-container {\n",
              "      display:flex;\n",
              "      flex-wrap:wrap;\n",
              "      gap: 12px;\n",
              "    }\n",
              "\n",
              "    .colab-df-convert {\n",
              "      background-color: #E8F0FE;\n",
              "      border: none;\n",
              "      border-radius: 50%;\n",
              "      cursor: pointer;\n",
              "      display: none;\n",
              "      fill: #1967D2;\n",
              "      height: 32px;\n",
              "      padding: 0 0 0 0;\n",
              "      width: 32px;\n",
              "    }\n",
              "\n",
              "    .colab-df-convert:hover {\n",
              "      background-color: #E2EBFA;\n",
              "      box-shadow: 0px 1px 2px rgba(60, 64, 67, 0.3), 0px 1px 3px 1px rgba(60, 64, 67, 0.15);\n",
              "      fill: #174EA6;\n",
              "    }\n",
              "\n",
              "    [theme=dark] .colab-df-convert {\n",
              "      background-color: #3B4455;\n",
              "      fill: #D2E3FC;\n",
              "    }\n",
              "\n",
              "    [theme=dark] .colab-df-convert:hover {\n",
              "      background-color: #434B5C;\n",
              "      box-shadow: 0px 1px 3px 1px rgba(0, 0, 0, 0.15);\n",
              "      filter: drop-shadow(0px 1px 2px rgba(0, 0, 0, 0.3));\n",
              "      fill: #FFFFFF;\n",
              "    }\n",
              "  </style>\n",
              "\n",
              "      <script>\n",
              "        const buttonEl =\n",
              "          document.querySelector('#df-e8b28e35-8c37-4717-8211-2fc3405d5d0a button.colab-df-convert');\n",
              "        buttonEl.style.display =\n",
              "          google.colab.kernel.accessAllowed ? 'block' : 'none';\n",
              "\n",
              "        async function convertToInteractive(key) {\n",
              "          const element = document.querySelector('#df-e8b28e35-8c37-4717-8211-2fc3405d5d0a');\n",
              "          const dataTable =\n",
              "            await google.colab.kernel.invokeFunction('convertToInteractive',\n",
              "                                                     [key], {});\n",
              "          if (!dataTable) return;\n",
              "\n",
              "          const docLinkHtml = 'Like what you see? Visit the ' +\n",
              "            '<a target=\"_blank\" href=https://colab.research.google.com/notebooks/data_table.ipynb>data table notebook</a>'\n",
              "            + ' to learn more about interactive tables.';\n",
              "          element.innerHTML = '';\n",
              "          dataTable['output_type'] = 'display_data';\n",
              "          await google.colab.output.renderOutput(dataTable, element);\n",
              "          const docLink = document.createElement('div');\n",
              "          docLink.innerHTML = docLinkHtml;\n",
              "          element.appendChild(docLink);\n",
              "        }\n",
              "      </script>\n",
              "    </div>\n",
              "  </div>\n",
              "  "
            ]
          },
          "metadata": {},
          "execution_count": 137
        }
      ]
    },
    {
      "cell_type": "code",
      "source": [
        "df.groupby('is_paid')['num_subscribers'].mean()"
      ],
      "metadata": {
        "colab": {
          "base_uri": "https://localhost:8080/"
        },
        "id": "xs3cfItyFNg6",
        "outputId": "9b34f141-430f-4eee-881b-61b65a14d3f9"
      },
      "execution_count": null,
      "outputs": [
        {
          "output_type": "execute_result",
          "data": {
            "text/plain": [
              "is_paid\n",
              "False    11533.951613\n",
              "True      2421.270077\n",
              "Name: num_subscribers, dtype: float64"
            ]
          },
          "metadata": {},
          "execution_count": 139
        }
      ]
    },
    {
      "cell_type": "code",
      "source": [
        "sns.barplot(x='is_paid', y='num_subscribers', data=df)"
      ],
      "metadata": {
        "colab": {
          "base_uri": "https://localhost:8080/",
          "height": 467
        },
        "id": "LtHWDEURFfiR",
        "outputId": "3969cc76-186e-4b7b-da6b-1a29a05a8235"
      },
      "execution_count": null,
      "outputs": [
        {
          "output_type": "execute_result",
          "data": {
            "text/plain": [
              "<Axes: xlabel='is_paid', ylabel='num_subscribers'>"
            ]
          },
          "metadata": {},
          "execution_count": 140
        },
        {
          "output_type": "display_data",
          "data": {
            "text/plain": [
              "<Figure size 640x480 with 1 Axes>"
            ],
            "image/png": "[encoded data removed]"
          },
          "metadata": {}
        }
      ]
    },
    {
      "cell_type": "markdown",
      "source": [
        "# Which level has the highest number of subscribers?"
      ],
      "metadata": {
        "id": "_YTqxVd4F6wl"
      }
    },
    {
      "cell_type": "code",
      "source": [
        "df.groupby(['level'])['num_subscribers'].mean()"
      ],
      "metadata": {
        "colab": {
          "base_uri": "https://localhost:8080/"
        },
        "id": "pRWtNhxNGC5c",
        "outputId": "3028625c-c8f3-4361-a889-6ef3b666c43e"
      },
      "execution_count": null,
      "outputs": [
        {
          "output_type": "execute_result",
          "data": {
            "text/plain": [
              "level\n",
              "All Levels            3569.761558\n",
              "Beginner Level        3195.459779\n",
              "Expert Level           865.448276\n",
              "Intermediate Level    1762.482185\n",
              "Name: num_subscribers, dtype: float64"
            ]
          },
          "metadata": {},
          "execution_count": 141
        }
      ]
    },
    {
      "cell_type": "code",
      "source": [
        "sns.barplot(x='level', y='num_subscribers', data=df)"
      ],
      "metadata": {
        "colab": {
          "base_uri": "https://localhost:8080/",
          "height": 466
        },
        "id": "9rtbs170GN_k",
        "outputId": "500bf993-6e04-429e-ab67-4b2fd2c66326"
      },
      "execution_count": null,
      "outputs": [
        {
          "output_type": "execute_result",
          "data": {
            "text/plain": [
              "<Axes: xlabel='level', ylabel='num_subscribers'>"
            ]
          },
          "metadata": {},
          "execution_count": 142
        },
        {
          "output_type": "display_data",
          "data": {
            "text/plain": [
              "<Figure size 640x480 with 1 Axes>"
            ],
            "image/png": "[encoded data removed]"
          },
          "metadata": {}
        }
      ]
    },
    {
      "cell_type": "markdown",
      "source": [
        "# Find most popular course title"
      ],
      "metadata": {
        "id": "FmE6iFzCGf47"
      }
    },
    {
      "cell_type": "code",
      "source": [
        "df.head()"
      ],
      "metadata": {
        "colab": {
          "base_uri": "https://localhost:8080/",
          "height": 441
        },
        "id": "rjqDZvSVGlWA",
        "outputId": "38041756-5c33-457e-c645-e3aa308d0754"
      },
      "execution_count": null,
      "outputs": [
        {
          "output_type": "execute_result",
          "data": {
            "text/plain": [
              "   course_id                                       course_title  \\\n",
              "0    1070968                 Ultimate Investment Banking Course   \n",
              "1    1113822  Complete GST Course & Certification - Grow You...   \n",
              "2    1006314  Financial Modeling for Business Analysts and C...   \n",
              "3    1210588  Beginner to Pro - Financial Analysis in Excel ...   \n",
              "4    1011058       How To Maximize Your Profits Trading Options   \n",
              "\n",
              "                                                 url  is_paid  price  \\\n",
              "0  https://www.udemy.com/ultimate-investment-bank...     True    200   \n",
              "1      https://www.udemy.com/goods-and-services-tax/     True     75   \n",
              "2  https://www.udemy.com/financial-modeling-for-b...     True     45   \n",
              "3  https://www.udemy.com/complete-excel-finance-c...     True     95   \n",
              "4  https://www.udemy.com/how-to-maximize-your-pro...     True    200   \n",
              "\n",
              "   num_subscribers  num_reviews  num_lectures               level  \\\n",
              "0             2147           23            51          All Levels   \n",
              "1             2792          923           274          All Levels   \n",
              "2             2174           74            51  Intermediate Level   \n",
              "3             2451           11            36          All Levels   \n",
              "4             1276           45            26  Intermediate Level   \n",
              "\n",
              "   content_duration       published_timestamp           subject  \n",
              "0               1.5 2017-01-18 20:58:58+00:00  Business Finance  \n",
              "1              39.0 2017-03-09 16:34:20+00:00  Business Finance  \n",
              "2               2.5 2016-12-19 19:26:30+00:00  Business Finance  \n",
              "3               3.0 2017-05-30 20:07:24+00:00  Business Finance  \n",
              "4               2.0 2016-12-13 14:57:18+00:00  Business Finance  "
            ],
            "text/html": [
              "\n",
              "  <div id=\"df-4627e814-b1c3-45cd-a66d-1b288db6d876\">\n",
              "    <div class=\"colab-df-container\">\n",
              "      <div>\n",
              "<style scoped>\n",
              "    .dataframe tbody tr th:only-of-type {\n",
              "        vertical-align: middle;\n",
              "    }\n",
              "\n",
              "    .dataframe tbody tr th {\n",
              "        vertical-align: top;\n",
              "    }\n",
              "\n",
              "    .dataframe thead th {\n",
              "        text-align: right;\n",
              "    }\n",
              "</style>\n",
              "<table border=\"1\" class=\"dataframe\">\n",
              "  <thead>\n",
              "    <tr style=\"text-align: right;\">\n",
              "      <th></th>\n",
              "      <th>course_id</th>\n",
              "      <th>course_title</th>\n",
              "      <th>url</th>\n",
              "      <th>is_paid</th>\n",
              "      <th>price</th>\n",
              "      <th>num_subscribers</th>\n",
              "      <th>num_reviews</th>\n",
              "      <th>num_lectures</th>\n",
              "      <th>level</th>\n",
              "      <th>content_duration</th>\n",
              "      <th>published_timestamp</th>\n",
              "      <th>subject</th>\n",
              "    </tr>\n",
              "  </thead>\n",
              "  <tbody>\n",
              "    <tr>\n",
              "      <th>0</th>\n",
              "      <td>1070968</td>\n",
              "      <td>Ultimate Investment Banking Course</td>\n",
              "      <td>https://www.udemy.com/ultimate-investment-bank...</td>\n",
              "      <td>True</td>\n",
              "      <td>200</td>\n",
              "      <td>2147</td>\n",
              "      <td>23</td>\n",
              "      <td>51</td>\n",
              "      <td>All Levels</td>\n",
              "      <td>1.5</td>\n",
              "      <td>2017-01-18 20:58:58+00:00</td>\n",
              "      <td>Business Finance</td>\n",
              "    </tr>\n",
              "    <tr>\n",
              "      <th>1</th>\n",
              "      <td>1113822</td>\n",
              "      <td>Complete GST Course &amp; Certification - Grow You...</td>\n",
              "      <td>https://www.udemy.com/goods-and-services-tax/</td>\n",
              "      <td>True</td>\n",
              "      <td>75</td>\n",
              "      <td>2792</td>\n",
              "      <td>923</td>\n",
              "      <td>274</td>\n",
              "      <td>All Levels</td>\n",
              "      <td>39.0</td>\n",
              "      <td>2017-03-09 16:34:20+00:00</td>\n",
              "      <td>Business Finance</td>\n",
              "    </tr>\n",
              "    <tr>\n",
              "      <th>2</th>\n",
              "      <td>1006314</td>\n",
              "      <td>Financial Modeling for Business Analysts and C...</td>\n",
              "      <td>https://www.udemy.com/financial-modeling-for-b...</td>\n",
              "      <td>True</td>\n",
              "      <td>45</td>\n",
              "      <td>2174</td>\n",
              "      <td>74</td>\n",
              "      <td>51</td>\n",
              "      <td>Intermediate Level</td>\n",
              "      <td>2.5</td>\n",
              "      <td>2016-12-19 19:26:30+00:00</td>\n",
              "      <td>Business Finance</td>\n",
              "    </tr>\n",
              "    <tr>\n",
              "      <th>3</th>\n",
              "      <td>1210588</td>\n",
              "      <td>Beginner to Pro - Financial Analysis in Excel ...</td>\n",
              "      <td>https://www.udemy.com/complete-excel-finance-c...</td>\n",
              "      <td>True</td>\n",
              "      <td>95</td>\n",
              "      <td>2451</td>\n",
              "      <td>11</td>\n",
              "      <td>36</td>\n",
              "      <td>All Levels</td>\n",
              "      <td>3.0</td>\n",
              "      <td>2017-05-30 20:07:24+00:00</td>\n",
              "      <td>Business Finance</td>\n",
              "    </tr>\n",
              "    <tr>\n",
              "      <th>4</th>\n",
              "      <td>1011058</td>\n",
              "      <td>How To Maximize Your Profits Trading Options</td>\n",
              "      <td>https://www.udemy.com/how-to-maximize-your-pro...</td>\n",
              "      <td>True</td>\n",
              "      <td>200</td>\n",
              "      <td>1276</td>\n",
              "      <td>45</td>\n",
              "      <td>26</td>\n",
              "      <td>Intermediate Level</td>\n",
              "      <td>2.0</td>\n",
              "      <td>2016-12-13 14:57:18+00:00</td>\n",
              "      <td>Business Finance</td>\n",
              "    </tr>\n",
              "  </tbody>\n",
              "</table>\n",
              "</div>\n",
              "      <button class=\"colab-df-convert\" onclick=\"convertToInteractive('df-4627e814-b1c3-45cd-a66d-1b288db6d876')\"\n",
              "              title=\"Convert this dataframe to an interactive table.\"\n",
              "              style=\"display:none;\">\n",
              "        \n",
              "  <svg xmlns=\"http://www.w3.org/2000/svg\" height=\"24px\"viewBox=\"0 0 24 24\"\n",
              "       width=\"24px\">\n",
              "    <path d=\"M0 0h24v24H0V0z\" fill=\"none\"/>\n",
              "    <path d=\"M18.56 5.44l.94 2.06.94-2.06 2.06-.94-2.06-.94-.94-2.06-.94 2.06-2.06.94zm-11 1L8.5 8.5l.94-2.06 2.06-.94-2.06-.94L8.5 2.5l-.94 2.06-2.06.94zm10 10l.94 2.06.94-2.06 2.06-.94-2.06-.94-.94-2.06-.94 2.06-2.06.94z\"/><path d=\"M17.41 7.96l-1.37-1.37c-.4-.4-.92-.59-1.43-.59-.52 0-1.04.2-1.43.59L10.3 9.45l-7.72 7.72c-.78.78-.78 2.05 0 2.83L4 21.41c.39.39.9.59 1.41.59.51 0 1.02-.2 1.41-.59l7.78-7.78 2.81-2.81c.8-.78.8-2.07 0-2.86zM5.41 20L4 18.59l7.72-7.72 1.47 1.35L5.41 20z\"/>\n",
              "  </svg>\n",
              "      </button>\n",
              "      \n",
              "  <style>\n",
              "    .colab-df-container {\n",
              "      display:flex;\n",
              "      flex-wrap:wrap;\n",
              "      gap: 12px;\n",
              "    }\n",
              "\n",
              "    .colab-df-convert {\n",
              "      background-color: #E8F0FE;\n",
              "      border: none;\n",
              "      border-radius: 50%;\n",
              "      cursor: pointer;\n",
              "      display: none;\n",
              "      fill: #1967D2;\n",
              "      height: 32px;\n",
              "      padding: 0 0 0 0;\n",
              "      width: 32px;\n",
              "    }\n",
              "\n",
              "    .colab-df-convert:hover {\n",
              "      background-color: #E2EBFA;\n",
              "      box-shadow: 0px 1px 2px rgba(60, 64, 67, 0.3), 0px 1px 3px 1px rgba(60, 64, 67, 0.15);\n",
              "      fill: #174EA6;\n",
              "    }\n",
              "\n",
              "    [theme=dark] .colab-df-convert {\n",
              "      background-color: #3B4455;\n",
              "      fill: #D2E3FC;\n",
              "    }\n",
              "\n",
              "    [theme=dark] .colab-df-convert:hover {\n",
              "      background-color: #434B5C;\n",
              "      box-shadow: 0px 1px 3px 1px rgba(0, 0, 0, 0.15);\n",
              "      filter: drop-shadow(0px 1px 2px rgba(0, 0, 0, 0.3));\n",
              "      fill: #FFFFFF;\n",
              "    }\n",
              "  </style>\n",
              "\n",
              "      <script>\n",
              "        const buttonEl =\n",
              "          document.querySelector('#df-4627e814-b1c3-45cd-a66d-1b288db6d876 button.colab-df-convert');\n",
              "        buttonEl.style.display =\n",
              "          google.colab.kernel.accessAllowed ? 'block' : 'none';\n",
              "\n",
              "        async function convertToInteractive(key) {\n",
              "          const element = document.querySelector('#df-4627e814-b1c3-45cd-a66d-1b288db6d876');\n",
              "          const dataTable =\n",
              "            await google.colab.kernel.invokeFunction('convertToInteractive',\n",
              "                                                     [key], {});\n",
              "          if (!dataTable) return;\n",
              "\n",
              "          const docLinkHtml = 'Like what you see? Visit the ' +\n",
              "            '<a target=\"_blank\" href=https://colab.research.google.com/notebooks/data_table.ipynb>data table notebook</a>'\n",
              "            + ' to learn more about interactive tables.';\n",
              "          element.innerHTML = '';\n",
              "          dataTable['output_type'] = 'display_data';\n",
              "          await google.colab.output.renderOutput(dataTable, element);\n",
              "          const docLink = document.createElement('div');\n",
              "          docLink.innerHTML = docLinkHtml;\n",
              "          element.appendChild(docLink);\n",
              "        }\n",
              "      </script>\n",
              "    </div>\n",
              "  </div>\n",
              "  "
            ]
          },
          "metadata": {},
          "execution_count": 143
        }
      ]
    },
    {
      "cell_type": "code",
      "source": [
        "df[df['num_subscribers'].max() == df['num_subscribers']]['course_title']"
      ],
      "metadata": {
        "colab": {
          "base_uri": "https://localhost:8080/"
        },
        "id": "vLO9WnAqHxZ9",
        "outputId": "6b48dcaf-5884-410d-8808-9544aaf9ffdf"
      },
      "execution_count": null,
      "outputs": [
        {
          "output_type": "execute_result",
          "data": {
            "text/plain": [
              "2827    Learn HTML5 Programming From Scratch\n",
              "Name: course_title, dtype: object"
            ]
          },
          "metadata": {},
          "execution_count": 157
        }
      ]
    },
    {
      "cell_type": "markdown",
      "source": [
        "# Display 10 most popular courses as per number of subscribers"
      ],
      "metadata": {
        "id": "sq3Aj8EQIWWB"
      }
    },
    {
      "cell_type": "code",
      "source": [
        "top_10=df.sort_values(by='num_subscribers', ascending=False).head(10)"
      ],
      "metadata": {
        "id": "OkQ7XRciIg4f"
      },
      "execution_count": null,
      "outputs": []
    },
    {
      "cell_type": "code",
      "source": [
        "sns.barplot(x='num_subscribers', y=\"course_title\", data=top_10)"
      ],
      "metadata": {
        "colab": {
          "base_uri": "https://localhost:8080/",
          "height": 467
        },
        "id": "ezm_yN07JoIW",
        "outputId": "0b72d746-b440-4ba7-daf3-fc288d085745"
      },
      "execution_count": null,
      "outputs": [
        {
          "output_type": "execute_result",
          "data": {
            "text/plain": [
              "<Axes: xlabel='num_subscribers', ylabel='course_title'>"
            ]
          },
          "metadata": {},
          "execution_count": 167
        },
        {
          "output_type": "display_data",
          "data": {
            "text/plain": [
              "<Figure size 640x480 with 1 Axes>"
            ],
            "image/png": "[encoded data removed]"
          },
          "metadata": {}
        }
      ]
    },
    {
      "cell_type": "markdown",
      "source": [
        "# Find the course which has the highest number of reviews"
      ],
      "metadata": {
        "id": "JtBsB1KtKHIA"
      }
    },
    {
      "cell_type": "code",
      "source": [
        "df.columns"
      ],
      "metadata": {
        "colab": {
          "base_uri": "https://localhost:8080/"
        },
        "id": "XlVCUnQhKPpc",
        "outputId": "ad22c761-97d8-42c0-eabc-3ca9897e4be9"
      },
      "execution_count": null,
      "outputs": [
        {
          "output_type": "execute_result",
          "data": {
            "text/plain": [
              "Index(['course_id', 'course_title', 'url', 'is_paid', 'price',\n",
              "       'num_subscribers', 'num_reviews', 'num_lectures', 'level',\n",
              "       'content_duration', 'published_timestamp', 'subject'],\n",
              "      dtype='object')"
            ]
          },
          "metadata": {},
          "execution_count": 168
        }
      ]
    },
    {
      "cell_type": "code",
      "source": [
        "df.sort_values(by= 'num_reviews', ascending=False).head(1)"
      ],
      "metadata": {
        "colab": {
          "base_uri": "https://localhost:8080/",
          "height": 159
        },
        "id": "zAMG4qqzKS8a",
        "outputId": "d89dfca6-3cf4-43e7-891a-960b13be0ef7"
      },
      "execution_count": null,
      "outputs": [
        {
          "output_type": "execute_result",
          "data": {
            "text/plain": [
              "      course_id                course_title  \\\n",
              "3230     625204  The Web Developer Bootcamp   \n",
              "\n",
              "                                                    url  is_paid  price  \\\n",
              "3230  https://www.udemy.com/the-web-developer-bootcamp/     True    200   \n",
              "\n",
              "      num_subscribers  num_reviews  num_lectures       level  \\\n",
              "3230           121584        27445           342  All Levels   \n",
              "\n",
              "      content_duration       published_timestamp          subject  \n",
              "3230              43.0 2015-11-02 21:13:27+00:00  Web Development  "
            ],
            "text/html": [
              "\n",
              "  <div id=\"df-fc926bee-bd3f-492d-aebf-8da935bc634b\">\n",
              "    <div class=\"colab-df-container\">\n",
              "      <div>\n",
              "<style scoped>\n",
              "    .dataframe tbody tr th:only-of-type {\n",
              "        vertical-align: middle;\n",
              "    }\n",
              "\n",
              "    .dataframe tbody tr th {\n",
              "        vertical-align: top;\n",
              "    }\n",
              "\n",
              "    .dataframe thead th {\n",
              "        text-align: right;\n",
              "    }\n",
              "</style>\n",
              "<table border=\"1\" class=\"dataframe\">\n",
              "  <thead>\n",
              "    <tr style=\"text-align: right;\">\n",
              "      <th></th>\n",
              "      <th>course_id</th>\n",
              "      <th>course_title</th>\n",
              "      <th>url</th>\n",
              "      <th>is_paid</th>\n",
              "      <th>price</th>\n",
              "      <th>num_subscribers</th>\n",
              "      <th>num_reviews</th>\n",
              "      <th>num_lectures</th>\n",
              "      <th>level</th>\n",
              "      <th>content_duration</th>\n",
              "      <th>published_timestamp</th>\n",
              "      <th>subject</th>\n",
              "    </tr>\n",
              "  </thead>\n",
              "  <tbody>\n",
              "    <tr>\n",
              "      <th>3230</th>\n",
              "      <td>625204</td>\n",
              "      <td>The Web Developer Bootcamp</td>\n",
              "      <td>https://www.udemy.com/the-web-developer-bootcamp/</td>\n",
              "      <td>True</td>\n",
              "      <td>200</td>\n",
              "      <td>121584</td>\n",
              "      <td>27445</td>\n",
              "      <td>342</td>\n",
              "      <td>All Levels</td>\n",
              "      <td>43.0</td>\n",
              "      <td>2015-11-02 21:13:27+00:00</td>\n",
              "      <td>Web Development</td>\n",
              "    </tr>\n",
              "  </tbody>\n",
              "</table>\n",
              "</div>\n",
              "      <button class=\"colab-df-convert\" onclick=\"convertToInteractive('df-fc926bee-bd3f-492d-aebf-8da935bc634b')\"\n",
              "              title=\"Convert this dataframe to an interactive table.\"\n",
              "              style=\"display:none;\">\n",
              "        \n",
              "  <svg xmlns=\"http://www.w3.org/2000/svg\" height=\"24px\"viewBox=\"0 0 24 24\"\n",
              "       width=\"24px\">\n",
              "    <path d=\"M0 0h24v24H0V0z\" fill=\"none\"/>\n",
              "    <path d=\"M18.56 5.44l.94 2.06.94-2.06 2.06-.94-2.06-.94-.94-2.06-.94 2.06-2.06.94zm-11 1L8.5 8.5l.94-2.06 2.06-.94-2.06-.94L8.5 2.5l-.94 2.06-2.06.94zm10 10l.94 2.06.94-2.06 2.06-.94-2.06-.94-.94-2.06-.94 2.06-2.06.94z\"/><path d=\"M17.41 7.96l-1.37-1.37c-.4-.4-.92-.59-1.43-.59-.52 0-1.04.2-1.43.59L10.3 9.45l-7.72 7.72c-.78.78-.78 2.05 0 2.83L4 21.41c.39.39.9.59 1.41.59.51 0 1.02-.2 1.41-.59l7.78-7.78 2.81-2.81c.8-.78.8-2.07 0-2.86zM5.41 20L4 18.59l7.72-7.72 1.47 1.35L5.41 20z\"/>\n",
              "  </svg>\n",
              "      </button>\n",
              "      \n",
              "  <style>\n",
              "    .colab-df-container {\n",
              "      display:flex;\n",
              "      flex-wrap:wrap;\n",
              "      gap: 12px;\n",
              "    }\n",
              "\n",
              "    .colab-df-convert {\n",
              "      background-color: #E8F0FE;\n",
              "      border: none;\n",
              "      border-radius: 50%;\n",
              "      cursor: pointer;\n",
              "      display: none;\n",
              "      fill: #1967D2;\n",
              "      height: 32px;\n",
              "      padding: 0 0 0 0;\n",
              "      width: 32px;\n",
              "    }\n",
              "\n",
              "    .colab-df-convert:hover {\n",
              "      background-color: #E2EBFA;\n",
              "      box-shadow: 0px 1px 2px rgba(60, 64, 67, 0.3), 0px 1px 3px 1px rgba(60, 64, 67, 0.15);\n",
              "      fill: #174EA6;\n",
              "    }\n",
              "\n",
              "    [theme=dark] .colab-df-convert {\n",
              "      background-color: #3B4455;\n",
              "      fill: #D2E3FC;\n",
              "    }\n",
              "\n",
              "    [theme=dark] .colab-df-convert:hover {\n",
              "      background-color: #434B5C;\n",
              "      box-shadow: 0px 1px 3px 1px rgba(0, 0, 0, 0.15);\n",
              "      filter: drop-shadow(0px 1px 2px rgba(0, 0, 0, 0.3));\n",
              "      fill: #FFFFFF;\n",
              "    }\n",
              "  </style>\n",
              "\n",
              "      <script>\n",
              "        const buttonEl =\n",
              "          document.querySelector('#df-fc926bee-bd3f-492d-aebf-8da935bc634b button.colab-df-convert');\n",
              "        buttonEl.style.display =\n",
              "          google.colab.kernel.accessAllowed ? 'block' : 'none';\n",
              "\n",
              "        async function convertToInteractive(key) {\n",
              "          const element = document.querySelector('#df-fc926bee-bd3f-492d-aebf-8da935bc634b');\n",
              "          const dataTable =\n",
              "            await google.colab.kernel.invokeFunction('convertToInteractive',\n",
              "                                                     [key], {});\n",
              "          if (!dataTable) return;\n",
              "\n",
              "          const docLinkHtml = 'Like what you see? Visit the ' +\n",
              "            '<a target=\"_blank\" href=https://colab.research.google.com/notebooks/data_table.ipynb>data table notebook</a>'\n",
              "            + ' to learn more about interactive tables.';\n",
              "          element.innerHTML = '';\n",
              "          dataTable['output_type'] = 'display_data';\n",
              "          await google.colab.output.renderOutput(dataTable, element);\n",
              "          const docLink = document.createElement('div');\n",
              "          docLink.innerHTML = docLinkHtml;\n",
              "          element.appendChild(docLink);\n",
              "        }\n",
              "      </script>\n",
              "    </div>\n",
              "  </div>\n",
              "  "
            ]
          },
          "metadata": {},
          "execution_count": 169
        }
      ]
    },
    {
      "cell_type": "code",
      "source": [
        "#or\n",
        "df[df['num_reviews'].max()==df['num_reviews']]['subject']"
      ],
      "metadata": {
        "colab": {
          "base_uri": "https://localhost:8080/"
        },
        "id": "3tlK320UKmh3",
        "outputId": "a789e5d1-592a-49e6-bcc5-48eda5036b68"
      },
      "execution_count": null,
      "outputs": [
        {
          "output_type": "execute_result",
          "data": {
            "text/plain": [
              "3230    Web Development\n",
              "Name: subject, dtype: object"
            ]
          },
          "metadata": {},
          "execution_count": 174
        }
      ]
    },
    {
      "cell_type": "code",
      "source": [
        "sns.barplot(x='subject', y='num_reviews', data=df)"
      ],
      "metadata": {
        "colab": {
          "base_uri": "https://localhost:8080/",
          "height": 466
        },
        "id": "4MA50KFeLDlO",
        "outputId": "1411ab2e-a74e-497a-f3df-d0718355fd41"
      },
      "execution_count": null,
      "outputs": [
        {
          "output_type": "execute_result",
          "data": {
            "text/plain": [
              "<Axes: xlabel='subject', ylabel='num_reviews'>"
            ]
          },
          "metadata": {},
          "execution_count": 176
        },
        {
          "output_type": "display_data",
          "data": {
            "text/plain": [
              "<Figure size 640x480 with 1 Axes>"
            ],
            "image/png": "[encoded data removed]"
          },
          "metadata": {}
        }
      ]
    },
    {
      "cell_type": "markdown",
      "source": [
        "# Dose price affect number of reviwes"
      ],
      "metadata": {
        "id": "mu3Gx29xLVnb"
      }
    },
    {
      "cell_type": "code",
      "source": [
        "df.columns"
      ],
      "metadata": {
        "colab": {
          "base_uri": "https://localhost:8080/"
        },
        "id": "zyw6NPYoLb3R",
        "outputId": "103f5f89-0af0-4e13-c12c-71dd75dda4d7"
      },
      "execution_count": null,
      "outputs": [
        {
          "output_type": "execute_result",
          "data": {
            "text/plain": [
              "Index(['course_id', 'course_title', 'url', 'is_paid', 'price',\n",
              "       'num_subscribers', 'num_reviews', 'num_lectures', 'level',\n",
              "       'content_duration', 'published_timestamp', 'subject'],\n",
              "      dtype='object')"
            ]
          },
          "metadata": {},
          "execution_count": 177
        }
      ]
    },
    {
      "cell_type": "code",
      "source": [
        "sns.barplot( x='price',y='num_reviews', data=df)"
      ],
      "metadata": {
        "colab": {
          "base_uri": "https://localhost:8080/",
          "height": 466
        },
        "id": "61nPzgetLfF7",
        "outputId": "015c49a5-f334-43ee-f453-a77c915dcd31"
      },
      "execution_count": null,
      "outputs": [
        {
          "output_type": "execute_result",
          "data": {
            "text/plain": [
              "<Axes: xlabel='price', ylabel='num_reviews'>"
            ]
          },
          "metadata": {},
          "execution_count": 181
        },
        {
          "output_type": "display_data",
          "data": {
            "text/plain": [
              "<Figure size 640x480 with 1 Axes>"
            ],
            "image/png": "[encoded data removed]"
          },
          "metadata": {}
        }
      ]
    },
    {
      "cell_type": "markdown",
      "source": [
        "# Total number of courses related to Python"
      ],
      "metadata": {
        "id": "CPS0WK0HMG3q"
      }
    },
    {
      "cell_type": "code",
      "source": [
        "df['course_title'].str.contains('Python').value_counts()"
      ],
      "metadata": {
        "colab": {
          "base_uri": "https://localhost:8080/"
        },
        "id": "NJfNLO4sMMfW",
        "outputId": "fde32efd-4760-44b5-bd38-b8b0d441c92c"
      },
      "execution_count": null,
      "outputs": [
        {
          "output_type": "execute_result",
          "data": {
            "text/plain": [
              "False    3643\n",
              "True       29\n",
              "Name: course_title, dtype: int64"
            ]
          },
          "metadata": {},
          "execution_count": 199
        }
      ]
    },
    {
      "cell_type": "code",
      "source": [
        "len(df[df['course_title'].str.contains('Python', case=False)])\n",
        "#We will use contains() to get only rows having ar in name column. We used the option case=False so this\n",
        "# is a case insensitive matching. You can make it case sensitive by changing case option to case=True"
      ],
      "metadata": {
        "colab": {
          "base_uri": "https://localhost:8080/"
        },
        "id": "xd8jXbFNOjAC",
        "outputId": "64cf4baa-80bb-4558-ccea-cd2a38226362"
      },
      "execution_count": null,
      "outputs": [
        {
          "output_type": "execute_result",
          "data": {
            "text/plain": [
              "29"
            ]
          },
          "metadata": {},
          "execution_count": 204
        }
      ]
    },
    {
      "cell_type": "markdown",
      "source": [
        "# Display 10 most popualr python courses as per number of subscribers"
      ],
      "metadata": {
        "id": "isfbt1vIPU-z"
      }
    },
    {
      "cell_type": "code",
      "source": [
        "df[df['course_title'].str.contains('Python', case=False)].sort_values(by='num_subscribers', ascending=False).head(10)"
      ],
      "metadata": {
        "colab": {
          "base_uri": "https://localhost:8080/",
          "height": 999
        },
        "id": "wLVUck4ZQBSZ",
        "outputId": "603d136b-539f-4828-cb60-e2fc69e391f7"
      },
      "execution_count": null,
      "outputs": [
        {
          "output_type": "execute_result",
          "data": {
            "text/plain": [
              "      course_id                                       course_title  \\\n",
              "2497      16646                        Web Programming with Python   \n",
              "2570      47963  Coding for Entrepreneurs: Learn Python, Django...   \n",
              "2528     391546        Learn Python and Django: Payment Processing   \n",
              "3200     822444  Python and Django Full Stack Web Developer Boo...   \n",
              "3507     394832  Fun and creative web engineering with Python a...   \n",
              "2553     938560  The Complete Ethical Hacking Course 2.0: Pytho...   \n",
              "3138     631128  Complete Python Web Course: Build 8 Python Web...   \n",
              "3197      76052  Try Django 1.9 | Build a Blog and Learn Python...   \n",
              "2681     477702  Python for Beginners: Python Programming Langu...   \n",
              "3203     970600                    REST APIs with Flask and Python   \n",
              "\n",
              "                                                    url  is_paid  price  \\\n",
              "2497  https://www.udemy.com/web-programming-with-pyt...     True     50   \n",
              "2570    https://www.udemy.com/coding-for-entrepreneurs/     True    195   \n",
              "2528  https://www.udemy.com/learn-django-code-accept...     True     70   \n",
              "3200  https://www.udemy.com/python-and-django-full-s...     True    200   \n",
              "3507  https://www.udemy.com/web-engineering-with-pyt...    False      0   \n",
              "2553  https://www.udemy.com/penetration-testing-ethi...     True    195   \n",
              "3138  https://www.udemy.com/the-complete-python-web-...     True    110   \n",
              "3197                  https://www.udemy.com/try-django/     True     50   \n",
              "2681               https://www.udemy.com/python-course/     True    150   \n",
              "3203   https://www.udemy.com/rest-api-flask-and-python/     True    110   \n",
              "\n",
              "      num_subscribers  num_reviews  num_lectures               level  \\\n",
              "2497            35267          217            53          All Levels   \n",
              "2570            23412          799           251          All Levels   \n",
              "2528            17714          198            23          All Levels   \n",
              "3200            11832         1883           191          All Levels   \n",
              "3507            10917          319            25          All Levels   \n",
              "2553             7827          268            66          All Levels   \n",
              "3138             7489          941           173          All Levels   \n",
              "3197             7407          172           147          All Levels   \n",
              "2681             6153          125            84      Beginner Level   \n",
              "3203             5151          737           115  Intermediate Level   \n",
              "\n",
              "      content_duration       published_timestamp          subject    py  \n",
              "2497               4.0 2012-04-25 00:01:43+00:00  Web Development  True  \n",
              "2570              45.0 2013-04-08 00:46:14+00:00  Web Development  True  \n",
              "2528               3.5 2015-02-09 15:37:56+00:00  Web Development  True  \n",
              "3200              31.5 2017-02-24 18:40:55+00:00  Web Development  True  \n",
              "3507               2.0 2015-06-09 19:51:50+00:00  Web Development  True  \n",
              "2553              11.0 2016-09-26 15:08:29+00:00  Web Development  True  \n",
              "3138              16.0 2015-11-08 20:57:35+00:00  Web Development  True  \n",
              "3197              20.0 2014-03-04 07:12:21+00:00  Web Development  True  \n",
              "2681               5.0 2015-06-14 18:18:57+00:00  Web Development  True  \n",
              "3203              12.5 2016-11-06 19:00:38+00:00  Web Development  True  "
            ],
            "text/html": [
              "\n",
              "  <div id=\"df-42e9ddf1-49a1-4c79-85cc-71fda4591fc4\">\n",
              "    <div class=\"colab-df-container\">\n",
              "      <div>\n",
              "<style scoped>\n",
              "    .dataframe tbody tr th:only-of-type {\n",
              "        vertical-align: middle;\n",
              "    }\n",
              "\n",
              "    .dataframe tbody tr th {\n",
              "        vertical-align: top;\n",
              "    }\n",
              "\n",
              "    .dataframe thead th {\n",
              "        text-align: right;\n",
              "    }\n",
              "</style>\n",
              "<table border=\"1\" class=\"dataframe\">\n",
              "  <thead>\n",
              "    <tr style=\"text-align: right;\">\n",
              "      <th></th>\n",
              "      <th>course_id</th>\n",
              "      <th>course_title</th>\n",
              "      <th>url</th>\n",
              "      <th>is_paid</th>\n",
              "      <th>price</th>\n",
              "      <th>num_subscribers</th>\n",
              "      <th>num_reviews</th>\n",
              "      <th>num_lectures</th>\n",
              "      <th>level</th>\n",
              "      <th>content_duration</th>\n",
              "      <th>published_timestamp</th>\n",
              "      <th>subject</th>\n",
              "      <th>py</th>\n",
              "    </tr>\n",
              "  </thead>\n",
              "  <tbody>\n",
              "    <tr>\n",
              "      <th>2497</th>\n",
              "      <td>16646</td>\n",
              "      <td>Web Programming with Python</td>\n",
              "      <td>https://www.udemy.com/web-programming-with-pyt...</td>\n",
              "      <td>True</td>\n",
              "      <td>50</td>\n",
              "      <td>35267</td>\n",
              "      <td>217</td>\n",
              "      <td>53</td>\n",
              "      <td>All Levels</td>\n",
              "      <td>4.0</td>\n",
              "      <td>2012-04-25 00:01:43+00:00</td>\n",
              "      <td>Web Development</td>\n",
              "      <td>True</td>\n",
              "    </tr>\n",
              "    <tr>\n",
              "      <th>2570</th>\n",
              "      <td>47963</td>\n",
              "      <td>Coding for Entrepreneurs: Learn Python, Django...</td>\n",
              "      <td>https://www.udemy.com/coding-for-entrepreneurs/</td>\n",
              "      <td>True</td>\n",
              "      <td>195</td>\n",
              "      <td>23412</td>\n",
              "      <td>799</td>\n",
              "      <td>251</td>\n",
              "      <td>All Levels</td>\n",
              "      <td>45.0</td>\n",
              "      <td>2013-04-08 00:46:14+00:00</td>\n",
              "      <td>Web Development</td>\n",
              "      <td>True</td>\n",
              "    </tr>\n",
              "    <tr>\n",
              "      <th>2528</th>\n",
              "      <td>391546</td>\n",
              "      <td>Learn Python and Django: Payment Processing</td>\n",
              "      <td>https://www.udemy.com/learn-django-code-accept...</td>\n",
              "      <td>True</td>\n",
              "      <td>70</td>\n",
              "      <td>17714</td>\n",
              "      <td>198</td>\n",
              "      <td>23</td>\n",
              "      <td>All Levels</td>\n",
              "      <td>3.5</td>\n",
              "      <td>2015-02-09 15:37:56+00:00</td>\n",
              "      <td>Web Development</td>\n",
              "      <td>True</td>\n",
              "    </tr>\n",
              "    <tr>\n",
              "      <th>3200</th>\n",
              "      <td>822444</td>\n",
              "      <td>Python and Django Full Stack Web Developer Boo...</td>\n",
              "      <td>https://www.udemy.com/python-and-django-full-s...</td>\n",
              "      <td>True</td>\n",
              "      <td>200</td>\n",
              "      <td>11832</td>\n",
              "      <td>1883</td>\n",
              "      <td>191</td>\n",
              "      <td>All Levels</td>\n",
              "      <td>31.5</td>\n",
              "      <td>2017-02-24 18:40:55+00:00</td>\n",
              "      <td>Web Development</td>\n",
              "      <td>True</td>\n",
              "    </tr>\n",
              "    <tr>\n",
              "      <th>3507</th>\n",
              "      <td>394832</td>\n",
              "      <td>Fun and creative web engineering with Python a...</td>\n",
              "      <td>https://www.udemy.com/web-engineering-with-pyt...</td>\n",
              "      <td>False</td>\n",
              "      <td>0</td>\n",
              "      <td>10917</td>\n",
              "      <td>319</td>\n",
              "      <td>25</td>\n",
              "      <td>All Levels</td>\n",
              "      <td>2.0</td>\n",
              "      <td>2015-06-09 19:51:50+00:00</td>\n",
              "      <td>Web Development</td>\n",
              "      <td>True</td>\n",
              "    </tr>\n",
              "    <tr>\n",
              "      <th>2553</th>\n",
              "      <td>938560</td>\n",
              "      <td>The Complete Ethical Hacking Course 2.0: Pytho...</td>\n",
              "      <td>https://www.udemy.com/penetration-testing-ethi...</td>\n",
              "      <td>True</td>\n",
              "      <td>195</td>\n",
              "      <td>7827</td>\n",
              "      <td>268</td>\n",
              "      <td>66</td>\n",
              "      <td>All Levels</td>\n",
              "      <td>11.0</td>\n",
              "      <td>2016-09-26 15:08:29+00:00</td>\n",
              "      <td>Web Development</td>\n",
              "      <td>True</td>\n",
              "    </tr>\n",
              "    <tr>\n",
              "      <th>3138</th>\n",
              "      <td>631128</td>\n",
              "      <td>Complete Python Web Course: Build 8 Python Web...</td>\n",
              "      <td>https://www.udemy.com/the-complete-python-web-...</td>\n",
              "      <td>True</td>\n",
              "      <td>110</td>\n",
              "      <td>7489</td>\n",
              "      <td>941</td>\n",
              "      <td>173</td>\n",
              "      <td>All Levels</td>\n",
              "      <td>16.0</td>\n",
              "      <td>2015-11-08 20:57:35+00:00</td>\n",
              "      <td>Web Development</td>\n",
              "      <td>True</td>\n",
              "    </tr>\n",
              "    <tr>\n",
              "      <th>3197</th>\n",
              "      <td>76052</td>\n",
              "      <td>Try Django 1.9 | Build a Blog and Learn Python...</td>\n",
              "      <td>https://www.udemy.com/try-django/</td>\n",
              "      <td>True</td>\n",
              "      <td>50</td>\n",
              "      <td>7407</td>\n",
              "      <td>172</td>\n",
              "      <td>147</td>\n",
              "      <td>All Levels</td>\n",
              "      <td>20.0</td>\n",
              "      <td>2014-03-04 07:12:21+00:00</td>\n",
              "      <td>Web Development</td>\n",
              "      <td>True</td>\n",
              "    </tr>\n",
              "    <tr>\n",
              "      <th>2681</th>\n",
              "      <td>477702</td>\n",
              "      <td>Python for Beginners: Python Programming Langu...</td>\n",
              "      <td>https://www.udemy.com/python-course/</td>\n",
              "      <td>True</td>\n",
              "      <td>150</td>\n",
              "      <td>6153</td>\n",
              "      <td>125</td>\n",
              "      <td>84</td>\n",
              "      <td>Beginner Level</td>\n",
              "      <td>5.0</td>\n",
              "      <td>2015-06-14 18:18:57+00:00</td>\n",
              "      <td>Web Development</td>\n",
              "      <td>True</td>\n",
              "    </tr>\n",
              "    <tr>\n",
              "      <th>3203</th>\n",
              "      <td>970600</td>\n",
              "      <td>REST APIs with Flask and Python</td>\n",
              "      <td>https://www.udemy.com/rest-api-flask-and-python/</td>\n",
              "      <td>True</td>\n",
              "      <td>110</td>\n",
              "      <td>5151</td>\n",
              "      <td>737</td>\n",
              "      <td>115</td>\n",
              "      <td>Intermediate Level</td>\n",
              "      <td>12.5</td>\n",
              "      <td>2016-11-06 19:00:38+00:00</td>\n",
              "      <td>Web Development</td>\n",
              "      <td>True</td>\n",
              "    </tr>\n",
              "  </tbody>\n",
              "</table>\n",
              "</div>\n",
              "      <button class=\"colab-df-convert\" onclick=\"convertToInteractive('df-42e9ddf1-49a1-4c79-85cc-71fda4591fc4')\"\n",
              "              title=\"Convert this dataframe to an interactive table.\"\n",
              "              style=\"display:none;\">\n",
              "        \n",
              "  <svg xmlns=\"http://www.w3.org/2000/svg\" height=\"24px\"viewBox=\"0 0 24 24\"\n",
              "       width=\"24px\">\n",
              "    <path d=\"M0 0h24v24H0V0z\" fill=\"none\"/>\n",
              "    <path d=\"M18.56 5.44l.94 2.06.94-2.06 2.06-.94-2.06-.94-.94-2.06-.94 2.06-2.06.94zm-11 1L8.5 8.5l.94-2.06 2.06-.94-2.06-.94L8.5 2.5l-.94 2.06-2.06.94zm10 10l.94 2.06.94-2.06 2.06-.94-2.06-.94-.94-2.06-.94 2.06-2.06.94z\"/><path d=\"M17.41 7.96l-1.37-1.37c-.4-.4-.92-.59-1.43-.59-.52 0-1.04.2-1.43.59L10.3 9.45l-7.72 7.72c-.78.78-.78 2.05 0 2.83L4 21.41c.39.39.9.59 1.41.59.51 0 1.02-.2 1.41-.59l7.78-7.78 2.81-2.81c.8-.78.8-2.07 0-2.86zM5.41 20L4 18.59l7.72-7.72 1.47 1.35L5.41 20z\"/>\n",
              "  </svg>\n",
              "      </button>\n",
              "      \n",
              "  <style>\n",
              "    .colab-df-container {\n",
              "      display:flex;\n",
              "      flex-wrap:wrap;\n",
              "      gap: 12px;\n",
              "    }\n",
              "\n",
              "    .colab-df-convert {\n",
              "      background-color: #E8F0FE;\n",
              "      border: none;\n",
              "      border-radius: 50%;\n",
              "      cursor: pointer;\n",
              "      display: none;\n",
              "      fill: #1967D2;\n",
              "      height: 32px;\n",
              "      padding: 0 0 0 0;\n",
              "      width: 32px;\n",
              "    }\n",
              "\n",
              "    .colab-df-convert:hover {\n",
              "      background-color: #E2EBFA;\n",
              "      box-shadow: 0px 1px 2px rgba(60, 64, 67, 0.3), 0px 1px 3px 1px rgba(60, 64, 67, 0.15);\n",
              "      fill: #174EA6;\n",
              "    }\n",
              "\n",
              "    [theme=dark] .colab-df-convert {\n",
              "      background-color: #3B4455;\n",
              "      fill: #D2E3FC;\n",
              "    }\n",
              "\n",
              "    [theme=dark] .colab-df-convert:hover {\n",
              "      background-color: #434B5C;\n",
              "      box-shadow: 0px 1px 3px 1px rgba(0, 0, 0, 0.15);\n",
              "      filter: drop-shadow(0px 1px 2px rgba(0, 0, 0, 0.3));\n",
              "      fill: #FFFFFF;\n",
              "    }\n",
              "  </style>\n",
              "\n",
              "      <script>\n",
              "        const buttonEl =\n",
              "          document.querySelector('#df-42e9ddf1-49a1-4c79-85cc-71fda4591fc4 button.colab-df-convert');\n",
              "        buttonEl.style.display =\n",
              "          google.colab.kernel.accessAllowed ? 'block' : 'none';\n",
              "\n",
              "        async function convertToInteractive(key) {\n",
              "          const element = document.querySelector('#df-42e9ddf1-49a1-4c79-85cc-71fda4591fc4');\n",
              "          const dataTable =\n",
              "            await google.colab.kernel.invokeFunction('convertToInteractive',\n",
              "                                                     [key], {});\n",
              "          if (!dataTable) return;\n",
              "\n",
              "          const docLinkHtml = 'Like what you see? Visit the ' +\n",
              "            '<a target=\"_blank\" href=https://colab.research.google.com/notebooks/data_table.ipynb>data table notebook</a>'\n",
              "            + ' to learn more about interactive tables.';\n",
              "          element.innerHTML = '';\n",
              "          dataTable['output_type'] = 'display_data';\n",
              "          await google.colab.output.renderOutput(dataTable, element);\n",
              "          const docLink = document.createElement('div');\n",
              "          docLink.innerHTML = docLinkHtml;\n",
              "          element.appendChild(docLink);\n",
              "        }\n",
              "      </script>\n",
              "    </div>\n",
              "  </div>\n",
              "  "
            ]
          },
          "metadata": {},
          "execution_count": 222
        }
      ]
    },
    {
      "cell_type": "markdown",
      "source": [
        "# In which year the highest number of courses were posted"
      ],
      "metadata": {
        "id": "aFJHweVjhHkF"
      }
    },
    {
      "cell_type": "code",
      "source": [
        "df.head(2)"
      ],
      "metadata": {
        "colab": {
          "base_uri": "https://localhost:8080/",
          "height": 243
        },
        "id": "Pd9yZtWBhNdD",
        "outputId": "8bf94b54-7b4e-412f-e3d0-e85a8ea5bceb"
      },
      "execution_count": null,
      "outputs": [
        {
          "output_type": "execute_result",
          "data": {
            "text/plain": [
              "   course_id                                       course_title  \\\n",
              "0    1070968                 Ultimate Investment Banking Course   \n",
              "1    1113822  Complete GST Course & Certification - Grow You...   \n",
              "\n",
              "                                                 url  is_paid  price  \\\n",
              "0  https://www.udemy.com/ultimate-investment-bank...     True    200   \n",
              "1      https://www.udemy.com/goods-and-services-tax/     True     75   \n",
              "\n",
              "   num_subscribers  num_reviews  num_lectures       level  content_duration  \\\n",
              "0             2147           23            51  All Levels               1.5   \n",
              "1             2792          923           274  All Levels              39.0   \n",
              "\n",
              "        published_timestamp           subject     py  \n",
              "0 2017-01-18 20:58:58+00:00  Business Finance  False  \n",
              "1 2017-03-09 16:34:20+00:00  Business Finance  False  "
            ],
            "text/html": [
              "\n",
              "  <div id=\"df-c74e0b06-1244-46fa-a136-f7bd3fbadcbf\">\n",
              "    <div class=\"colab-df-container\">\n",
              "      <div>\n",
              "<style scoped>\n",
              "    .dataframe tbody tr th:only-of-type {\n",
              "        vertical-align: middle;\n",
              "    }\n",
              "\n",
              "    .dataframe tbody tr th {\n",
              "        vertical-align: top;\n",
              "    }\n",
              "\n",
              "    .dataframe thead th {\n",
              "        text-align: right;\n",
              "    }\n",
              "</style>\n",
              "<table border=\"1\" class=\"dataframe\">\n",
              "  <thead>\n",
              "    <tr style=\"text-align: right;\">\n",
              "      <th></th>\n",
              "      <th>course_id</th>\n",
              "      <th>course_title</th>\n",
              "      <th>url</th>\n",
              "      <th>is_paid</th>\n",
              "      <th>price</th>\n",
              "      <th>num_subscribers</th>\n",
              "      <th>num_reviews</th>\n",
              "      <th>num_lectures</th>\n",
              "      <th>level</th>\n",
              "      <th>content_duration</th>\n",
              "      <th>published_timestamp</th>\n",
              "      <th>subject</th>\n",
              "      <th>py</th>\n",
              "    </tr>\n",
              "  </thead>\n",
              "  <tbody>\n",
              "    <tr>\n",
              "      <th>0</th>\n",
              "      <td>1070968</td>\n",
              "      <td>Ultimate Investment Banking Course</td>\n",
              "      <td>https://www.udemy.com/ultimate-investment-bank...</td>\n",
              "      <td>True</td>\n",
              "      <td>200</td>\n",
              "      <td>2147</td>\n",
              "      <td>23</td>\n",
              "      <td>51</td>\n",
              "      <td>All Levels</td>\n",
              "      <td>1.5</td>\n",
              "      <td>2017-01-18 20:58:58+00:00</td>\n",
              "      <td>Business Finance</td>\n",
              "      <td>False</td>\n",
              "    </tr>\n",
              "    <tr>\n",
              "      <th>1</th>\n",
              "      <td>1113822</td>\n",
              "      <td>Complete GST Course &amp; Certification - Grow You...</td>\n",
              "      <td>https://www.udemy.com/goods-and-services-tax/</td>\n",
              "      <td>True</td>\n",
              "      <td>75</td>\n",
              "      <td>2792</td>\n",
              "      <td>923</td>\n",
              "      <td>274</td>\n",
              "      <td>All Levels</td>\n",
              "      <td>39.0</td>\n",
              "      <td>2017-03-09 16:34:20+00:00</td>\n",
              "      <td>Business Finance</td>\n",
              "      <td>False</td>\n",
              "    </tr>\n",
              "  </tbody>\n",
              "</table>\n",
              "</div>\n",
              "      <button class=\"colab-df-convert\" onclick=\"convertToInteractive('df-c74e0b06-1244-46fa-a136-f7bd3fbadcbf')\"\n",
              "              title=\"Convert this dataframe to an interactive table.\"\n",
              "              style=\"display:none;\">\n",
              "        \n",
              "  <svg xmlns=\"http://www.w3.org/2000/svg\" height=\"24px\"viewBox=\"0 0 24 24\"\n",
              "       width=\"24px\">\n",
              "    <path d=\"M0 0h24v24H0V0z\" fill=\"none\"/>\n",
              "    <path d=\"M18.56 5.44l.94 2.06.94-2.06 2.06-.94-2.06-.94-.94-2.06-.94 2.06-2.06.94zm-11 1L8.5 8.5l.94-2.06 2.06-.94-2.06-.94L8.5 2.5l-.94 2.06-2.06.94zm10 10l.94 2.06.94-2.06 2.06-.94-2.06-.94-.94-2.06-.94 2.06-2.06.94z\"/><path d=\"M17.41 7.96l-1.37-1.37c-.4-.4-.92-.59-1.43-.59-.52 0-1.04.2-1.43.59L10.3 9.45l-7.72 7.72c-.78.78-.78 2.05 0 2.83L4 21.41c.39.39.9.59 1.41.59.51 0 1.02-.2 1.41-.59l7.78-7.78 2.81-2.81c.8-.78.8-2.07 0-2.86zM5.41 20L4 18.59l7.72-7.72 1.47 1.35L5.41 20z\"/>\n",
              "  </svg>\n",
              "      </button>\n",
              "      \n",
              "  <style>\n",
              "    .colab-df-container {\n",
              "      display:flex;\n",
              "      flex-wrap:wrap;\n",
              "      gap: 12px;\n",
              "    }\n",
              "\n",
              "    .colab-df-convert {\n",
              "      background-color: #E8F0FE;\n",
              "      border: none;\n",
              "      border-radius: 50%;\n",
              "      cursor: pointer;\n",
              "      display: none;\n",
              "      fill: #1967D2;\n",
              "      height: 32px;\n",
              "      padding: 0 0 0 0;\n",
              "      width: 32px;\n",
              "    }\n",
              "\n",
              "    .colab-df-convert:hover {\n",
              "      background-color: #E2EBFA;\n",
              "      box-shadow: 0px 1px 2px rgba(60, 64, 67, 0.3), 0px 1px 3px 1px rgba(60, 64, 67, 0.15);\n",
              "      fill: #174EA6;\n",
              "    }\n",
              "\n",
              "    [theme=dark] .colab-df-convert {\n",
              "      background-color: #3B4455;\n",
              "      fill: #D2E3FC;\n",
              "    }\n",
              "\n",
              "    [theme=dark] .colab-df-convert:hover {\n",
              "      background-color: #434B5C;\n",
              "      box-shadow: 0px 1px 3px 1px rgba(0, 0, 0, 0.15);\n",
              "      filter: drop-shadow(0px 1px 2px rgba(0, 0, 0, 0.3));\n",
              "      fill: #FFFFFF;\n",
              "    }\n",
              "  </style>\n",
              "\n",
              "      <script>\n",
              "        const buttonEl =\n",
              "          document.querySelector('#df-c74e0b06-1244-46fa-a136-f7bd3fbadcbf button.colab-df-convert');\n",
              "        buttonEl.style.display =\n",
              "          google.colab.kernel.accessAllowed ? 'block' : 'none';\n",
              "\n",
              "        async function convertToInteractive(key) {\n",
              "          const element = document.querySelector('#df-c74e0b06-1244-46fa-a136-f7bd3fbadcbf');\n",
              "          const dataTable =\n",
              "            await google.colab.kernel.invokeFunction('convertToInteractive',\n",
              "                                                     [key], {});\n",
              "          if (!dataTable) return;\n",
              "\n",
              "          const docLinkHtml = 'Like what you see? Visit the ' +\n",
              "            '<a target=\"_blank\" href=https://colab.research.google.com/notebooks/data_table.ipynb>data table notebook</a>'\n",
              "            + ' to learn more about interactive tables.';\n",
              "          element.innerHTML = '';\n",
              "          dataTable['output_type'] = 'display_data';\n",
              "          await google.colab.output.renderOutput(dataTable, element);\n",
              "          const docLink = document.createElement('div');\n",
              "          docLink.innerHTML = docLinkHtml;\n",
              "          element.appendChild(docLink);\n",
              "        }\n",
              "      </script>\n",
              "    </div>\n",
              "  </div>\n",
              "  "
            ]
          },
          "metadata": {},
          "execution_count": 223
        }
      ]
    },
    {
      "cell_type": "code",
      "source": [
        "df['Year']=df['published_timestamp'].dt.year"
      ],
      "metadata": {
        "id": "TDHwZrcrh-k5"
      },
      "execution_count": null,
      "outputs": []
    },
    {
      "cell_type": "code",
      "source": [
        "df.head()"
      ],
      "metadata": {
        "colab": {
          "base_uri": "https://localhost:8080/",
          "height": 510
        },
        "id": "O-C2kuzpiHh2",
        "outputId": "943cc611-90ba-4373-a24a-d63ef62e50d2"
      },
      "execution_count": null,
      "outputs": [
        {
          "output_type": "execute_result",
          "data": {
            "text/plain": [
              "   course_id                                       course_title  \\\n",
              "0    1070968                 Ultimate Investment Banking Course   \n",
              "1    1113822  Complete GST Course & Certification - Grow You...   \n",
              "2    1006314  Financial Modeling for Business Analysts and C...   \n",
              "3    1210588  Beginner to Pro - Financial Analysis in Excel ...   \n",
              "4    1011058       How To Maximize Your Profits Trading Options   \n",
              "\n",
              "                                                 url  is_paid  price  \\\n",
              "0  https://www.udemy.com/ultimate-investment-bank...     True    200   \n",
              "1      https://www.udemy.com/goods-and-services-tax/     True     75   \n",
              "2  https://www.udemy.com/financial-modeling-for-b...     True     45   \n",
              "3  https://www.udemy.com/complete-excel-finance-c...     True     95   \n",
              "4  https://www.udemy.com/how-to-maximize-your-pro...     True    200   \n",
              "\n",
              "   num_subscribers  num_reviews  num_lectures               level  \\\n",
              "0             2147           23            51          All Levels   \n",
              "1             2792          923           274          All Levels   \n",
              "2             2174           74            51  Intermediate Level   \n",
              "3             2451           11            36          All Levels   \n",
              "4             1276           45            26  Intermediate Level   \n",
              "\n",
              "   content_duration       published_timestamp           subject  Year  \n",
              "0               1.5 2017-01-18 20:58:58+00:00  Business Finance  2017  \n",
              "1              39.0 2017-03-09 16:34:20+00:00  Business Finance  2017  \n",
              "2               2.5 2016-12-19 19:26:30+00:00  Business Finance  2016  \n",
              "3               3.0 2017-05-30 20:07:24+00:00  Business Finance  2017  \n",
              "4               2.0 2016-12-13 14:57:18+00:00  Business Finance  2016  "
            ],
            "text/html": [
              "\n",
              "  <div id=\"df-5715123e-cbf5-4017-9dc4-87d4ad88bb74\">\n",
              "    <div class=\"colab-df-container\">\n",
              "      <div>\n",
              "<style scoped>\n",
              "    .dataframe tbody tr th:only-of-type {\n",
              "        vertical-align: middle;\n",
              "    }\n",
              "\n",
              "    .dataframe tbody tr th {\n",
              "        vertical-align: top;\n",
              "    }\n",
              "\n",
              "    .dataframe thead th {\n",
              "        text-align: right;\n",
              "    }\n",
              "</style>\n",
              "<table border=\"1\" class=\"dataframe\">\n",
              "  <thead>\n",
              "    <tr style=\"text-align: right;\">\n",
              "      <th></th>\n",
              "      <th>course_id</th>\n",
              "      <th>course_title</th>\n",
              "      <th>url</th>\n",
              "      <th>is_paid</th>\n",
              "      <th>price</th>\n",
              "      <th>num_subscribers</th>\n",
              "      <th>num_reviews</th>\n",
              "      <th>num_lectures</th>\n",
              "      <th>level</th>\n",
              "      <th>content_duration</th>\n",
              "      <th>published_timestamp</th>\n",
              "      <th>subject</th>\n",
              "      <th>Year</th>\n",
              "    </tr>\n",
              "  </thead>\n",
              "  <tbody>\n",
              "    <tr>\n",
              "      <th>0</th>\n",
              "      <td>1070968</td>\n",
              "      <td>Ultimate Investment Banking Course</td>\n",
              "      <td>https://www.udemy.com/ultimate-investment-bank...</td>\n",
              "      <td>True</td>\n",
              "      <td>200</td>\n",
              "      <td>2147</td>\n",
              "      <td>23</td>\n",
              "      <td>51</td>\n",
              "      <td>All Levels</td>\n",
              "      <td>1.5</td>\n",
              "      <td>2017-01-18 20:58:58+00:00</td>\n",
              "      <td>Business Finance</td>\n",
              "      <td>2017</td>\n",
              "    </tr>\n",
              "    <tr>\n",
              "      <th>1</th>\n",
              "      <td>1113822</td>\n",
              "      <td>Complete GST Course &amp; Certification - Grow You...</td>\n",
              "      <td>https://www.udemy.com/goods-and-services-tax/</td>\n",
              "      <td>True</td>\n",
              "      <td>75</td>\n",
              "      <td>2792</td>\n",
              "      <td>923</td>\n",
              "      <td>274</td>\n",
              "      <td>All Levels</td>\n",
              "      <td>39.0</td>\n",
              "      <td>2017-03-09 16:34:20+00:00</td>\n",
              "      <td>Business Finance</td>\n",
              "      <td>2017</td>\n",
              "    </tr>\n",
              "    <tr>\n",
              "      <th>2</th>\n",
              "      <td>1006314</td>\n",
              "      <td>Financial Modeling for Business Analysts and C...</td>\n",
              "      <td>https://www.udemy.com/financial-modeling-for-b...</td>\n",
              "      <td>True</td>\n",
              "      <td>45</td>\n",
              "      <td>2174</td>\n",
              "      <td>74</td>\n",
              "      <td>51</td>\n",
              "      <td>Intermediate Level</td>\n",
              "      <td>2.5</td>\n",
              "      <td>2016-12-19 19:26:30+00:00</td>\n",
              "      <td>Business Finance</td>\n",
              "      <td>2016</td>\n",
              "    </tr>\n",
              "    <tr>\n",
              "      <th>3</th>\n",
              "      <td>1210588</td>\n",
              "      <td>Beginner to Pro - Financial Analysis in Excel ...</td>\n",
              "      <td>https://www.udemy.com/complete-excel-finance-c...</td>\n",
              "      <td>True</td>\n",
              "      <td>95</td>\n",
              "      <td>2451</td>\n",
              "      <td>11</td>\n",
              "      <td>36</td>\n",
              "      <td>All Levels</td>\n",
              "      <td>3.0</td>\n",
              "      <td>2017-05-30 20:07:24+00:00</td>\n",
              "      <td>Business Finance</td>\n",
              "      <td>2017</td>\n",
              "    </tr>\n",
              "    <tr>\n",
              "      <th>4</th>\n",
              "      <td>1011058</td>\n",
              "      <td>How To Maximize Your Profits Trading Options</td>\n",
              "      <td>https://www.udemy.com/how-to-maximize-your-pro...</td>\n",
              "      <td>True</td>\n",
              "      <td>200</td>\n",
              "      <td>1276</td>\n",
              "      <td>45</td>\n",
              "      <td>26</td>\n",
              "      <td>Intermediate Level</td>\n",
              "      <td>2.0</td>\n",
              "      <td>2016-12-13 14:57:18+00:00</td>\n",
              "      <td>Business Finance</td>\n",
              "      <td>2016</td>\n",
              "    </tr>\n",
              "  </tbody>\n",
              "</table>\n",
              "</div>\n",
              "      <button class=\"colab-df-convert\" onclick=\"convertToInteractive('df-5715123e-cbf5-4017-9dc4-87d4ad88bb74')\"\n",
              "              title=\"Convert this dataframe to an interactive table.\"\n",
              "              style=\"display:none;\">\n",
              "        \n",
              "  <svg xmlns=\"http://www.w3.org/2000/svg\" height=\"24px\"viewBox=\"0 0 24 24\"\n",
              "       width=\"24px\">\n",
              "    <path d=\"M0 0h24v24H0V0z\" fill=\"none\"/>\n",
              "    <path d=\"M18.56 5.44l.94 2.06.94-2.06 2.06-.94-2.06-.94-.94-2.06-.94 2.06-2.06.94zm-11 1L8.5 8.5l.94-2.06 2.06-.94-2.06-.94L8.5 2.5l-.94 2.06-2.06.94zm10 10l.94 2.06.94-2.06 2.06-.94-2.06-.94-.94-2.06-.94 2.06-2.06.94z\"/><path d=\"M17.41 7.96l-1.37-1.37c-.4-.4-.92-.59-1.43-.59-.52 0-1.04.2-1.43.59L10.3 9.45l-7.72 7.72c-.78.78-.78 2.05 0 2.83L4 21.41c.39.39.9.59 1.41.59.51 0 1.02-.2 1.41-.59l7.78-7.78 2.81-2.81c.8-.78.8-2.07 0-2.86zM5.41 20L4 18.59l7.72-7.72 1.47 1.35L5.41 20z\"/>\n",
              "  </svg>\n",
              "      </button>\n",
              "      \n",
              "  <style>\n",
              "    .colab-df-container {\n",
              "      display:flex;\n",
              "      flex-wrap:wrap;\n",
              "      gap: 12px;\n",
              "    }\n",
              "\n",
              "    .colab-df-convert {\n",
              "      background-color: #E8F0FE;\n",
              "      border: none;\n",
              "      border-radius: 50%;\n",
              "      cursor: pointer;\n",
              "      display: none;\n",
              "      fill: #1967D2;\n",
              "      height: 32px;\n",
              "      padding: 0 0 0 0;\n",
              "      width: 32px;\n",
              "    }\n",
              "\n",
              "    .colab-df-convert:hover {\n",
              "      background-color: #E2EBFA;\n",
              "      box-shadow: 0px 1px 2px rgba(60, 64, 67, 0.3), 0px 1px 3px 1px rgba(60, 64, 67, 0.15);\n",
              "      fill: #174EA6;\n",
              "    }\n",
              "\n",
              "    [theme=dark] .colab-df-convert {\n",
              "      background-color: #3B4455;\n",
              "      fill: #D2E3FC;\n",
              "    }\n",
              "\n",
              "    [theme=dark] .colab-df-convert:hover {\n",
              "      background-color: #434B5C;\n",
              "      box-shadow: 0px 1px 3px 1px rgba(0, 0, 0, 0.15);\n",
              "      filter: drop-shadow(0px 1px 2px rgba(0, 0, 0, 0.3));\n",
              "      fill: #FFFFFF;\n",
              "    }\n",
              "  </style>\n",
              "\n",
              "      <script>\n",
              "        const buttonEl =\n",
              "          document.querySelector('#df-5715123e-cbf5-4017-9dc4-87d4ad88bb74 button.colab-df-convert');\n",
              "        buttonEl.style.display =\n",
              "          google.colab.kernel.accessAllowed ? 'block' : 'none';\n",
              "\n",
              "        async function convertToInteractive(key) {\n",
              "          const element = document.querySelector('#df-5715123e-cbf5-4017-9dc4-87d4ad88bb74');\n",
              "          const dataTable =\n",
              "            await google.colab.kernel.invokeFunction('convertToInteractive',\n",
              "                                                     [key], {});\n",
              "          if (!dataTable) return;\n",
              "\n",
              "          const docLinkHtml = 'Like what you see? Visit the ' +\n",
              "            '<a target=\"_blank\" href=https://colab.research.google.com/notebooks/data_table.ipynb>data table notebook</a>'\n",
              "            + ' to learn more about interactive tables.';\n",
              "          element.innerHTML = '';\n",
              "          dataTable['output_type'] = 'display_data';\n",
              "          await google.colab.output.renderOutput(dataTable, element);\n",
              "          const docLink = document.createElement('div');\n",
              "          docLink.innerHTML = docLinkHtml;\n",
              "          element.appendChild(docLink);\n",
              "        }\n",
              "      </script>\n",
              "    </div>\n",
              "  </div>\n",
              "  "
            ]
          },
          "metadata": {},
          "execution_count": 234
        }
      ]
    },
    {
      "cell_type": "code",
      "source": [
        "sns.countplot(x='Year', data=df)"
      ],
      "metadata": {
        "colab": {
          "base_uri": "https://localhost:8080/",
          "height": 466
        },
        "id": "_wh6nkikPrvH",
        "outputId": "6fc13da6-734f-4bea-8062-8ed7bc70b35e"
      },
      "execution_count": null,
      "outputs": [
        {
          "output_type": "execute_result",
          "data": {
            "text/plain": [
              "<Axes: xlabel='Year', ylabel='count'>"
            ]
          },
          "metadata": {},
          "execution_count": 239
        },
        {
          "output_type": "display_data",
          "data": {
            "text/plain": [
              "<Figure size 640x480 with 1 Axes>"
            ],
            "image/png": "[encoded data removed]"
          },
          "metadata": {}
        }
      ]
    },
    {
      "cell_type": "markdown",
      "source": [
        "# Display category-Wise count posted subjeact (year wise)"
      ],
      "metadata": {
        "id": "aU24SFPqjb81"
      }
    },
    {
      "cell_type": "code",
      "source": [
        "df.groupby('Year')['subject'].value_counts()"
      ],
      "metadata": {
        "colab": {
          "base_uri": "https://localhost:8080/"
        },
        "id": "yfbEoLdWjirl",
        "outputId": "f3970c25-92bf-434a-a82e-c412c3684d76"
      },
      "execution_count": null,
      "outputs": [
        {
          "output_type": "execute_result",
          "data": {
            "text/plain": [
              "Year  subject            \n",
              "2011  Web Development          5\n",
              "2012  Web Development         19\n",
              "      Graphic Design          10\n",
              "      Musical Instruments     10\n",
              "      Business Finance         6\n",
              "2013  Business Finance        84\n",
              "      Web Development         55\n",
              "      Musical Instruments     39\n",
              "      Graphic Design          23\n",
              "2014  Business Finance       192\n",
              "      Musical Instruments    120\n",
              "      Web Development        113\n",
              "      Graphic Design          65\n",
              "2015  Business Finance       339\n",
              "      Web Development        336\n",
              "      Musical Instruments    171\n",
              "      Graphic Design         168\n",
              "2016  Web Development        448\n",
              "      Business Finance       347\n",
              "      Musical Instruments    228\n",
              "      Graphic Design         181\n",
              "2017  Business Finance       223\n",
              "      Web Development        223\n",
              "      Graphic Design         155\n",
              "      Musical Instruments    112\n",
              "Name: subject, dtype: int64"
            ]
          },
          "metadata": {},
          "execution_count": 243
        }
      ]
    },
    {
      "cell_type": "code",
      "source": [],
      "metadata": {
        "id": "nPVmxXQdPryZ"
      },
      "execution_count": null,
      "outputs": []
    },
    {
      "cell_type": "code",
      "source": [],
      "metadata": {
        "id": "z8D0ZTnzPr1w"
      },
      "execution_count": null,
      "outputs": []
    }
  ]
}